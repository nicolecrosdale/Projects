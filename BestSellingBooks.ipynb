{
  "nbformat": 4,
  "nbformat_minor": 0,
  "metadata": {
    "colab": {
      "name": "BestSellingBooks.ipynb",
      "provenance": []
    },
    "kernelspec": {
      "name": "python3",
      "display_name": "Python 3"
    },
    "language_info": {
      "name": "python"
    }
  },
  "cells": [
    {
      "cell_type": "code",
      "execution_count": 57,
      "metadata": {
        "id": "gDbPUuBwVljI"
      },
      "outputs": [],
      "source": [
        "# import packages to process & wrangle data set\n",
        "import pandas as pd\n",
        "import matplotlib.pyplot as plt\n",
        "import numpy as np"
      ]
    },
    {
      "cell_type": "code",
      "source": [
        "#Upload data and assign a variable to the data frame\n",
        "def load_data(file):                                                    \n",
        "    return pd.read_csv(file, sep = \",\", index_col = False, header=0)\n",
        "Books=pd.read_excel(\"Top UK book sales of all time.xlsx\")"
      ],
      "metadata": {
        "id": "vH3EUMyZjtZn"
      },
      "execution_count": 2,
      "outputs": []
    },
    {
      "cell_type": "code",
      "source": [
        "print(Books)"
      ],
      "metadata": {
        "colab": {
          "base_uri": "https://localhost:8080/"
        },
        "id": "NtnzFbIzxmBh",
        "outputId": "017d744a-efe1-480d-bf34-088260baa4b4"
      },
      "execution_count": 3,
      "outputs": [
        {
          "output_type": "stream",
          "name": "stdout",
          "text": [
            "      Rank                                              Title  \\\n",
            "0      1.0                                  Da Vinci Code,The   \n",
            "1      2.0               Harry Potter and the Deathly Hallows   \n",
            "2      3.0           Harry Potter and the Philosopher's Stone   \n",
            "3      4.0          Harry Potter and the Order of the Phoenix   \n",
            "4      5.0                               Fifty Shades of Grey   \n",
            "..     ...                                                ...   \n",
            "96    97.0                     Happy Days with the Naked Chef   \n",
            "97    98.0              Hunger Games,The:Hunger Games Trilogy   \n",
            "98    99.0  Lost Boy,The:A Foster Child's Search for the L...   \n",
            "99   100.0  Jamie's Ministry of Food:Anyone Can Learn to C...   \n",
            "100    NaN                                                NaN   \n",
            "\n",
            "               Author  Volume Sales  Editions Combined  \\\n",
            "0          Brown, Dan       5094805                7.0   \n",
            "1       Rowling, J.K.       4475152                8.0   \n",
            "2       Rowling, J.K.       4200654                8.0   \n",
            "3       Rowling, J.K.       4179479                5.0   \n",
            "4        James, E. L.       3758936                1.0   \n",
            "..                ...           ...                ...   \n",
            "96      Oliver, Jamie        794201                4.0   \n",
            "97   Collins, Suzanne        792187                3.0   \n",
            "98       Pelzer, Dave        791507                3.0   \n",
            "99      Oliver, Jamie        791095                1.0   \n",
            "100               NaN     149727199                NaN   \n",
            "\n",
            "                            Imprint            Publisher Publication Date  \\\n",
            "0                       Corgi Books       Transworld Grp       2004-03-01   \n",
            "1         Bloomsbury Publishing PLC       Bloomsbury Grp       2007-07-21   \n",
            "2         Bloomsbury Publishing PLC       Bloomsbury Grp       1997-06-26   \n",
            "3         Bloomsbury Publishing PLC       Bloomsbury Grp       2003-04-26   \n",
            "4                       Arrow Books     Random House Grp       2012-04-12   \n",
            "..                              ...                  ...              ...   \n",
            "96                   Michael Joseph          Penguin Grp       2001-09-03   \n",
            "97                       Scholastic  Scholastic Ltd. Grp       2011-12-01   \n",
            "98   Orion (an Imprint of The Orion            Orion Grp       2001-04-07   \n",
            "99                   Michael Joseph          Penguin Grp       2008-10-03   \n",
            "100                             NaN                  NaN              NaT   \n",
            "\n",
            "                                 Genre  \n",
            "0    F2.1  Crime, Thriller & Adventure  \n",
            "1             Y2.1  Children's Fiction  \n",
            "2             Y2.1  Children's Fiction  \n",
            "3             Y2.1  Children's Fiction  \n",
            "4                F2.5  Romance & Sagas  \n",
            "..                                 ...  \n",
            "96        T16.0  Food & Drink: General  \n",
            "97           Y2.2  Young Adult Fiction  \n",
            "98            T4.0  Biography: General  \n",
            "99        T16.0  Food & Drink: General  \n",
            "100                                NaN  \n",
            "\n",
            "[101 rows x 9 columns]\n"
          ]
        }
      ]
    },
    {
      "cell_type": "code",
      "source": [
        "#Look at the number of values in each column to see if there are missing values  \n",
        "Books = Books.drop_duplicates(subset='Title', keep='first')\n",
        "Books.count() "
      ],
      "metadata": {
        "colab": {
          "base_uri": "https://localhost:8080/"
        },
        "id": "AzLFvb6PunDp",
        "outputId": "43829275-0045-46e0-d91b-d76c3dd45337"
      },
      "execution_count": 4,
      "outputs": [
        {
          "output_type": "execute_result",
          "data": {
            "text/plain": [
              "Rank                 100\n",
              "Title                100\n",
              "Author               100\n",
              "Volume Sales         101\n",
              "Editions Combined    100\n",
              "Imprint              100\n",
              "Publisher            100\n",
              "Publication Date     100\n",
              "Genre                100\n",
              "dtype: int64"
            ]
          },
          "metadata": {},
          "execution_count": 4
        }
      ]
    },
    {
      "cell_type": "code",
      "source": [
        "Books.dtypes"
      ],
      "metadata": {
        "colab": {
          "base_uri": "https://localhost:8080/"
        },
        "id": "_oCPZz_gqyPU",
        "outputId": "9cc54fc5-c03d-40a1-97fa-7282eeb978f5"
      },
      "execution_count": 5,
      "outputs": [
        {
          "output_type": "execute_result",
          "data": {
            "text/plain": [
              "Rank                        float64\n",
              "Title                        object\n",
              "Author                       object\n",
              "Volume Sales                  int64\n",
              "Editions Combined           float64\n",
              "Imprint                      object\n",
              "Publisher                    object\n",
              "Publication Date     datetime64[ns]\n",
              "Genre                        object\n",
              "dtype: object"
            ]
          },
          "metadata": {},
          "execution_count": 5
        }
      ]
    },
    {
      "cell_type": "code",
      "source": [
        "Books.describe()"
      ],
      "metadata": {
        "colab": {
          "base_uri": "https://localhost:8080/",
          "height": 300
        },
        "id": "FyHB43dYqT6N",
        "outputId": "f291e7aa-6d7a-4a09-f9db-5485930760df"
      },
      "execution_count": 6,
      "outputs": [
        {
          "output_type": "execute_result",
          "data": {
            "text/plain": [
              "             Rank  Volume Sales  Editions Combined\n",
              "count  100.000000  1.010000e+02         100.000000\n",
              "mean    50.500000  2.964895e+06           3.800000\n",
              "std     29.011492  1.477706e+07           2.169578\n",
              "min      1.000000  7.910950e+05           1.000000\n",
              "25%     25.750000  9.456400e+05           2.000000\n",
              "50%     50.500000  1.115549e+06           3.000000\n",
              "75%     75.250000  1.783535e+06           5.000000\n",
              "max    100.000000  1.497272e+08          11.000000"
            ],
            "text/html": [
              "\n",
              "  <div id=\"df-22cbe03b-144f-4e55-9c42-f60fb3585df7\">\n",
              "    <div class=\"colab-df-container\">\n",
              "      <div>\n",
              "<style scoped>\n",
              "    .dataframe tbody tr th:only-of-type {\n",
              "        vertical-align: middle;\n",
              "    }\n",
              "\n",
              "    .dataframe tbody tr th {\n",
              "        vertical-align: top;\n",
              "    }\n",
              "\n",
              "    .dataframe thead th {\n",
              "        text-align: right;\n",
              "    }\n",
              "</style>\n",
              "<table border=\"1\" class=\"dataframe\">\n",
              "  <thead>\n",
              "    <tr style=\"text-align: right;\">\n",
              "      <th></th>\n",
              "      <th>Rank</th>\n",
              "      <th>Volume Sales</th>\n",
              "      <th>Editions Combined</th>\n",
              "    </tr>\n",
              "  </thead>\n",
              "  <tbody>\n",
              "    <tr>\n",
              "      <th>count</th>\n",
              "      <td>100.000000</td>\n",
              "      <td>1.010000e+02</td>\n",
              "      <td>100.000000</td>\n",
              "    </tr>\n",
              "    <tr>\n",
              "      <th>mean</th>\n",
              "      <td>50.500000</td>\n",
              "      <td>2.964895e+06</td>\n",
              "      <td>3.800000</td>\n",
              "    </tr>\n",
              "    <tr>\n",
              "      <th>std</th>\n",
              "      <td>29.011492</td>\n",
              "      <td>1.477706e+07</td>\n",
              "      <td>2.169578</td>\n",
              "    </tr>\n",
              "    <tr>\n",
              "      <th>min</th>\n",
              "      <td>1.000000</td>\n",
              "      <td>7.910950e+05</td>\n",
              "      <td>1.000000</td>\n",
              "    </tr>\n",
              "    <tr>\n",
              "      <th>25%</th>\n",
              "      <td>25.750000</td>\n",
              "      <td>9.456400e+05</td>\n",
              "      <td>2.000000</td>\n",
              "    </tr>\n",
              "    <tr>\n",
              "      <th>50%</th>\n",
              "      <td>50.500000</td>\n",
              "      <td>1.115549e+06</td>\n",
              "      <td>3.000000</td>\n",
              "    </tr>\n",
              "    <tr>\n",
              "      <th>75%</th>\n",
              "      <td>75.250000</td>\n",
              "      <td>1.783535e+06</td>\n",
              "      <td>5.000000</td>\n",
              "    </tr>\n",
              "    <tr>\n",
              "      <th>max</th>\n",
              "      <td>100.000000</td>\n",
              "      <td>1.497272e+08</td>\n",
              "      <td>11.000000</td>\n",
              "    </tr>\n",
              "  </tbody>\n",
              "</table>\n",
              "</div>\n",
              "      <button class=\"colab-df-convert\" onclick=\"convertToInteractive('df-22cbe03b-144f-4e55-9c42-f60fb3585df7')\"\n",
              "              title=\"Convert this dataframe to an interactive table.\"\n",
              "              style=\"display:none;\">\n",
              "        \n",
              "  <svg xmlns=\"http://www.w3.org/2000/svg\" height=\"24px\"viewBox=\"0 0 24 24\"\n",
              "       width=\"24px\">\n",
              "    <path d=\"M0 0h24v24H0V0z\" fill=\"none\"/>\n",
              "    <path d=\"M18.56 5.44l.94 2.06.94-2.06 2.06-.94-2.06-.94-.94-2.06-.94 2.06-2.06.94zm-11 1L8.5 8.5l.94-2.06 2.06-.94-2.06-.94L8.5 2.5l-.94 2.06-2.06.94zm10 10l.94 2.06.94-2.06 2.06-.94-2.06-.94-.94-2.06-.94 2.06-2.06.94z\"/><path d=\"M17.41 7.96l-1.37-1.37c-.4-.4-.92-.59-1.43-.59-.52 0-1.04.2-1.43.59L10.3 9.45l-7.72 7.72c-.78.78-.78 2.05 0 2.83L4 21.41c.39.39.9.59 1.41.59.51 0 1.02-.2 1.41-.59l7.78-7.78 2.81-2.81c.8-.78.8-2.07 0-2.86zM5.41 20L4 18.59l7.72-7.72 1.47 1.35L5.41 20z\"/>\n",
              "  </svg>\n",
              "      </button>\n",
              "      \n",
              "  <style>\n",
              "    .colab-df-container {\n",
              "      display:flex;\n",
              "      flex-wrap:wrap;\n",
              "      gap: 12px;\n",
              "    }\n",
              "\n",
              "    .colab-df-convert {\n",
              "      background-color: #E8F0FE;\n",
              "      border: none;\n",
              "      border-radius: 50%;\n",
              "      cursor: pointer;\n",
              "      display: none;\n",
              "      fill: #1967D2;\n",
              "      height: 32px;\n",
              "      padding: 0 0 0 0;\n",
              "      width: 32px;\n",
              "    }\n",
              "\n",
              "    .colab-df-convert:hover {\n",
              "      background-color: #E2EBFA;\n",
              "      box-shadow: 0px 1px 2px rgba(60, 64, 67, 0.3), 0px 1px 3px 1px rgba(60, 64, 67, 0.15);\n",
              "      fill: #174EA6;\n",
              "    }\n",
              "\n",
              "    [theme=dark] .colab-df-convert {\n",
              "      background-color: #3B4455;\n",
              "      fill: #D2E3FC;\n",
              "    }\n",
              "\n",
              "    [theme=dark] .colab-df-convert:hover {\n",
              "      background-color: #434B5C;\n",
              "      box-shadow: 0px 1px 3px 1px rgba(0, 0, 0, 0.15);\n",
              "      filter: drop-shadow(0px 1px 2px rgba(0, 0, 0, 0.3));\n",
              "      fill: #FFFFFF;\n",
              "    }\n",
              "  </style>\n",
              "\n",
              "      <script>\n",
              "        const buttonEl =\n",
              "          document.querySelector('#df-22cbe03b-144f-4e55-9c42-f60fb3585df7 button.colab-df-convert');\n",
              "        buttonEl.style.display =\n",
              "          google.colab.kernel.accessAllowed ? 'block' : 'none';\n",
              "\n",
              "        async function convertToInteractive(key) {\n",
              "          const element = document.querySelector('#df-22cbe03b-144f-4e55-9c42-f60fb3585df7');\n",
              "          const dataTable =\n",
              "            await google.colab.kernel.invokeFunction('convertToInteractive',\n",
              "                                                     [key], {});\n",
              "          if (!dataTable) return;\n",
              "\n",
              "          const docLinkHtml = 'Like what you see? Visit the ' +\n",
              "            '<a target=\"_blank\" href=https://colab.research.google.com/notebooks/data_table.ipynb>data table notebook</a>'\n",
              "            + ' to learn more about interactive tables.';\n",
              "          element.innerHTML = '';\n",
              "          dataTable['output_type'] = 'display_data';\n",
              "          await google.colab.output.renderOutput(dataTable, element);\n",
              "          const docLink = document.createElement('div');\n",
              "          docLink.innerHTML = docLinkHtml;\n",
              "          element.appendChild(docLink);\n",
              "        }\n",
              "      </script>\n",
              "    </div>\n",
              "  </div>\n",
              "  "
            ]
          },
          "metadata": {},
          "execution_count": 6
        }
      ]
    },
    {
      "cell_type": "code",
      "source": [
        "#dataset columns\n",
        "list(Books)"
      ],
      "metadata": {
        "colab": {
          "base_uri": "https://localhost:8080/"
        },
        "id": "AilEsh3qkXAA",
        "outputId": "813daadd-b7da-4795-f49c-ee3f69e22054"
      },
      "execution_count": 7,
      "outputs": [
        {
          "output_type": "execute_result",
          "data": {
            "text/plain": [
              "['Rank',\n",
              " 'Title',\n",
              " 'Author',\n",
              " 'Volume Sales',\n",
              " 'Editions Combined',\n",
              " 'Imprint',\n",
              " 'Publisher',\n",
              " 'Publication Date',\n",
              " 'Genre']"
            ]
          },
          "metadata": {},
          "execution_count": 7
        }
      ]
    },
    {
      "cell_type": "code",
      "source": [
        "#Creating a variable name for a column and listed out the genres\n",
        "Genre=pd.value_counts(Books['Genre'])\n",
        "print(Genre)"
      ],
      "metadata": {
        "colab": {
          "base_uri": "https://localhost:8080/"
        },
        "id": "EJSRvonNlDIp",
        "outputId": "59394d74-f327-4648-e469-5fe3410e8441"
      },
      "execution_count": 8,
      "outputs": [
        {
          "output_type": "stream",
          "name": "stdout",
          "text": [
            "F1.1  General & Literary Fiction                   33\n",
            "F2.1  Crime, Thriller & Adventure                  13\n",
            "Y2.2  Young Adult Fiction                           9\n",
            "Y2.1  Children's Fiction                            8\n",
            "T16.0  Food & Drink: General                        6\n",
            "Y1.3  Picture Books                                 4\n",
            "T4.1A  Autobiography:  The Arts                     4\n",
            "F2.5  Romance & Sagas                               3\n",
            "T4.0A  Autobiography: General                       3\n",
            "T9.4  Fitness & Diet                                3\n",
            "T8.0  Popular Science                               2\n",
            "F2.2  Science Fiction & Fantasy                     2\n",
            "T8.5  Travel Writing                                2\n",
            "T7.5  Current Affairs & Issues                      1\n",
            "Y3.1  Children's Annuals                            1\n",
            "T16.1  National & Regional Cuisine                  1\n",
            "T4.1  Biography: The Arts                           1\n",
            "T8.7  Popular Culture & Media: General Interest     1\n",
            "T2.1  Usage & Writing Guides                        1\n",
            "T13.0  Humour: Collections & General                1\n",
            "T4.0  Biography: General                            1\n",
            "Name: Genre, dtype: int64\n"
          ]
        }
      ]
    },
    {
      "cell_type": "code",
      "source": [
        "list(Genre)"
      ],
      "metadata": {
        "colab": {
          "base_uri": "https://localhost:8080/"
        },
        "id": "VPBg4QXEmC2v",
        "outputId": "5d5084d0-ffbf-463c-b6f1-49ea52286af6"
      },
      "execution_count": 9,
      "outputs": [
        {
          "output_type": "execute_result",
          "data": {
            "text/plain": [
              "[33, 13, 9, 8, 6, 4, 4, 3, 3, 3, 2, 2, 2, 1, 1, 1, 1, 1, 1, 1, 1]"
            ]
          },
          "metadata": {},
          "execution_count": 9
        }
      ]
    },
    {
      "cell_type": "code",
      "source": [
        "y = np.array([33, 13, 9, 8, 6, 4, 4, 3, 3, 3, 2, 2, 2, 1, 1, 1, 1, 1, 1, 1, 1])\n",
        "fig, ax= plt.subplots(figsize=(12,12))\n",
        "mylabels=['General & Literary Fiction', 'Crime, Thriller & Adventure',\n",
        "'Young Adult Fiction','Children Fiction','Food & Drink: General',\n",
        "'Picture Books','Autobiography','Romance & Sagas','Autobiography: General',\n",
        "'Fitness & Diet','Popular Science','Science Fiction & Fantasy','Travel Writing',                               \n",
        "'Current Affairs & Issues','Children Annuals','National & Regional Cuisine',\n",
        "'Biography: The Arts','Popular Culture & Media: General Interest',\n",
        "'Usage & Writing Guides','Humour: Collections & General','Biography: General']\n",
        "myexplode = [.08, 0, 0, 0, 0, 0, 0,0,0,0,0,0,0,0,0,0,0,0,0,0,0]\n",
        "plt.title(\"Best Selling Book Genres\")\n",
        "plt.pie(y, labels = mylabels, explode = myexplode)  \n",
        "plt.show()"
      ],
      "metadata": {
        "colab": {
          "base_uri": "https://localhost:8080/",
          "height": 699
        },
        "id": "fHrf7iWclsqA",
        "outputId": "f4e6f972-816d-432e-9fc5-26355dfc7f99"
      },
      "execution_count": 10,
      "outputs": [
        {
          "output_type": "display_data",
          "data": {
            "text/plain": [
              "<Figure size 864x864 with 1 Axes>"
            ],
            "image/png": "[encoded data removed]"
          },
          "metadata": {}
        }
      ]
    },
    {
      "cell_type": "markdown",
      "source": [
        "Findings: 'General & Literacy Fiction' are the most popular"
      ],
      "metadata": {
        "id": "7NNRwQCPvROO"
      }
    },
    {
      "cell_type": "markdown",
      "source": [
        "----------------------------------------------------------"
      ],
      "metadata": {
        "id": "kTVyXzXoy2Oa"
      }
    },
    {
      "cell_type": "markdown",
      "source": [
        "Looking at the quantity of bestselling books by author"
      ],
      "metadata": {
        "id": "icrvrAFythDC"
      }
    },
    {
      "cell_type": "code",
      "source": [
        "#Delete row with 0.0 as author and sum of volume sales because it is not useful for this model\n",
        "Books = Books.drop(Books.index[-1])\n",
        "Books = Books.drop(Books.index[[90]])"
      ],
      "metadata": {
        "id": "jY-zTB1JvN1J"
      },
      "execution_count": 11,
      "outputs": []
    },
    {
      "cell_type": "code",
      "source": [
        "Author=(Books['Author'])\n",
        "Author = list(set(Author))\n",
        "print(Author)"
      ],
      "metadata": {
        "colab": {
          "base_uri": "https://localhost:8080/"
        },
        "id": "Tv7R8r2lyMpn",
        "outputId": "f1795cd1-a979-4721-8a4d-fb7678d94eaf"
      },
      "execution_count": 12,
      "outputs": [
        {
          "output_type": "stream",
          "name": "stdout",
          "text": [
            "['Lee, Harper', 'Haddon, Mark', \"O'Grady, Paul\", 'Meyer, Stephenie', 'Donaldson, Julia', 'Picoult, Jodi', 'Harris, Thomas', 'Lewycka, Marina', 'Tolkien, J. R. R.', 'Ahern, Cecelia', 'French, Dawn', 'James, E. L.', 'Nicholls, David', 'Ali, Monica', 'Harris, Robert', 'McCourt, Frank', 'Osbourne, Sharon', 'Grisham, John', 'Harris, Joanne', 'Sebold, Alice', 'Hornby, Nick', 'Brown, Dan', 'Bernieres, Louis de', 'Levy, Andrea', 'Rubenfeld, Jed', 'Binchy, Maeve', 'Hosseini, Khaled', 'McKeith, Gillian', 'Smith, Delia', 'Gray, John', 'Niffenegger, Audrey', 'Hislop, Victoria', 'Dawkins, Richard', 'Parsons, Tony', 'Pullman, Philip', 'Mosse, Kate', 'Golden, Arthur', 'Coelho, Paulo', 'Faulks, Sebastian', 'Zafon, Carlos Ruiz', 'Larsson, Stieg', 'McKenna, Paul', 'Martel, Yann', 'Kay, Peter', 'McCall Smith, Alexander', 'Smith, Zadie', 'Oliver, Jamie', 'Bryson, Bill', 'Morton, Kate', 'Collins, Suzanne', 'Lawson, Nigella', 'Stockett, Kathryn', 'Truss, Lynne', 'Fielding, Helen', 'Clarkson, Jeremy', 'McEwan, Ian', 'Stephenson, Pamela', 'Edwards, Kim', 'Rowling, J.K.', 'Moore, Michael', 'Brand, Russell', 'Pelzer, Dave', 'Boyne, John', 'Zusak, Markus', 'Atkins, Robert C.', 'Carle, Eric']\n"
          ]
        }
      ]
    },
    {
      "cell_type": "code",
      "source": [
        "list(Author)"
      ],
      "metadata": {
        "colab": {
          "base_uri": "https://localhost:8080/"
        },
        "id": "fVkfO1xfxJ_O",
        "outputId": "7ea7ffc6-9193-4fba-bff7-7d4146965cae"
      },
      "execution_count": 13,
      "outputs": [
        {
          "output_type": "execute_result",
          "data": {
            "text/plain": [
              "['Lee, Harper',\n",
              " 'Haddon, Mark',\n",
              " \"O'Grady, Paul\",\n",
              " 'Meyer, Stephenie',\n",
              " 'Donaldson, Julia',\n",
              " 'Picoult, Jodi',\n",
              " 'Harris, Thomas',\n",
              " 'Lewycka, Marina',\n",
              " 'Tolkien, J. R. R.',\n",
              " 'Ahern, Cecelia',\n",
              " 'French, Dawn',\n",
              " 'James, E. L.',\n",
              " 'Nicholls, David',\n",
              " 'Ali, Monica',\n",
              " 'Harris, Robert',\n",
              " 'McCourt, Frank',\n",
              " 'Osbourne, Sharon',\n",
              " 'Grisham, John',\n",
              " 'Harris, Joanne',\n",
              " 'Sebold, Alice',\n",
              " 'Hornby, Nick',\n",
              " 'Brown, Dan',\n",
              " 'Bernieres, Louis de',\n",
              " 'Levy, Andrea',\n",
              " 'Rubenfeld, Jed',\n",
              " 'Binchy, Maeve',\n",
              " 'Hosseini, Khaled',\n",
              " 'McKeith, Gillian',\n",
              " 'Smith, Delia',\n",
              " 'Gray, John',\n",
              " 'Niffenegger, Audrey',\n",
              " 'Hislop, Victoria',\n",
              " 'Dawkins, Richard',\n",
              " 'Parsons, Tony',\n",
              " 'Pullman, Philip',\n",
              " 'Mosse, Kate',\n",
              " 'Golden, Arthur',\n",
              " 'Coelho, Paulo',\n",
              " 'Faulks, Sebastian',\n",
              " 'Zafon, Carlos Ruiz',\n",
              " 'Larsson, Stieg',\n",
              " 'McKenna, Paul',\n",
              " 'Martel, Yann',\n",
              " 'Kay, Peter',\n",
              " 'McCall Smith, Alexander',\n",
              " 'Smith, Zadie',\n",
              " 'Oliver, Jamie',\n",
              " 'Bryson, Bill',\n",
              " 'Morton, Kate',\n",
              " 'Collins, Suzanne',\n",
              " 'Lawson, Nigella',\n",
              " 'Stockett, Kathryn',\n",
              " 'Truss, Lynne',\n",
              " 'Fielding, Helen',\n",
              " 'Clarkson, Jeremy',\n",
              " 'McEwan, Ian',\n",
              " 'Stephenson, Pamela',\n",
              " 'Edwards, Kim',\n",
              " 'Rowling, J.K.',\n",
              " 'Moore, Michael',\n",
              " 'Brand, Russell',\n",
              " 'Pelzer, Dave',\n",
              " 'Boyne, John',\n",
              " 'Zusak, Markus',\n",
              " 'Atkins, Robert C.',\n",
              " 'Carle, Eric']"
            ]
          },
          "metadata": {},
          "execution_count": 13
        }
      ]
    },
    {
      "cell_type": "code",
      "source": [
        "print(Author)"
      ],
      "metadata": {
        "colab": {
          "base_uri": "https://localhost:8080/"
        },
        "id": "BLbv8nSK558x",
        "outputId": "7f24149e-c835-483f-d541-f5851a8e5ad5"
      },
      "execution_count": 14,
      "outputs": [
        {
          "output_type": "stream",
          "name": "stdout",
          "text": [
            "['Lee, Harper', 'Haddon, Mark', \"O'Grady, Paul\", 'Meyer, Stephenie', 'Donaldson, Julia', 'Picoult, Jodi', 'Harris, Thomas', 'Lewycka, Marina', 'Tolkien, J. R. R.', 'Ahern, Cecelia', 'French, Dawn', 'James, E. L.', 'Nicholls, David', 'Ali, Monica', 'Harris, Robert', 'McCourt, Frank', 'Osbourne, Sharon', 'Grisham, John', 'Harris, Joanne', 'Sebold, Alice', 'Hornby, Nick', 'Brown, Dan', 'Bernieres, Louis de', 'Levy, Andrea', 'Rubenfeld, Jed', 'Binchy, Maeve', 'Hosseini, Khaled', 'McKeith, Gillian', 'Smith, Delia', 'Gray, John', 'Niffenegger, Audrey', 'Hislop, Victoria', 'Dawkins, Richard', 'Parsons, Tony', 'Pullman, Philip', 'Mosse, Kate', 'Golden, Arthur', 'Coelho, Paulo', 'Faulks, Sebastian', 'Zafon, Carlos Ruiz', 'Larsson, Stieg', 'McKenna, Paul', 'Martel, Yann', 'Kay, Peter', 'McCall Smith, Alexander', 'Smith, Zadie', 'Oliver, Jamie', 'Bryson, Bill', 'Morton, Kate', 'Collins, Suzanne', 'Lawson, Nigella', 'Stockett, Kathryn', 'Truss, Lynne', 'Fielding, Helen', 'Clarkson, Jeremy', 'McEwan, Ian', 'Stephenson, Pamela', 'Edwards, Kim', 'Rowling, J.K.', 'Moore, Michael', 'Brand, Russell', 'Pelzer, Dave', 'Boyne, John', 'Zusak, Markus', 'Atkins, Robert C.', 'Carle, Eric']\n"
          ]
        }
      ]
    },
    {
      "cell_type": "code",
      "source": [
        "Author_count=pd.value_counts(Books['Author'])\n",
        "print(Author_count)"
      ],
      "metadata": {
        "colab": {
          "base_uri": "https://localhost:8080/"
        },
        "id": "UkofvfU584t2",
        "outputId": "1062d034-53e6-4b75-88ad-ca2a64c52795"
      },
      "execution_count": 15,
      "outputs": [
        {
          "output_type": "stream",
          "name": "stdout",
          "text": [
            "Rowling, J.K.        9\n",
            "Brown, Dan           5\n",
            "Oliver, Jamie        5\n",
            "Meyer, Stephenie     4\n",
            "Pullman, Philip      3\n",
            "                    ..\n",
            "Ahern, Cecelia       1\n",
            "McKeith, Gillian     1\n",
            "Atkins, Robert C.    1\n",
            "Truss, Lynne         1\n",
            "Collins, Suzanne     1\n",
            "Name: Author, Length: 66, dtype: int64\n"
          ]
        }
      ]
    },
    {
      "cell_type": "code",
      "source": [
        "list(Author_count)"
      ],
      "metadata": {
        "colab": {
          "base_uri": "https://localhost:8080/"
        },
        "id": "UO_DFk9h6Dyh",
        "outputId": "3e7f76a8-8f89-4c86-9d8f-ff8dc4eaf0ef"
      },
      "execution_count": 16,
      "outputs": [
        {
          "output_type": "execute_result",
          "data": {
            "text/plain": [
              "[9,\n",
              " 5,\n",
              " 5,\n",
              " 4,\n",
              " 3,\n",
              " 3,\n",
              " 3,\n",
              " 3,\n",
              " 3,\n",
              " 2,\n",
              " 2,\n",
              " 2,\n",
              " 2,\n",
              " 1,\n",
              " 1,\n",
              " 1,\n",
              " 1,\n",
              " 1,\n",
              " 1,\n",
              " 1,\n",
              " 1,\n",
              " 1,\n",
              " 1,\n",
              " 1,\n",
              " 1,\n",
              " 1,\n",
              " 1,\n",
              " 1,\n",
              " 1,\n",
              " 1,\n",
              " 1,\n",
              " 1,\n",
              " 1,\n",
              " 1,\n",
              " 1,\n",
              " 1,\n",
              " 1,\n",
              " 1,\n",
              " 1,\n",
              " 1,\n",
              " 1,\n",
              " 1,\n",
              " 1,\n",
              " 1,\n",
              " 1,\n",
              " 1,\n",
              " 1,\n",
              " 1,\n",
              " 1,\n",
              " 1,\n",
              " 1,\n",
              " 1,\n",
              " 1,\n",
              " 1,\n",
              " 1,\n",
              " 1,\n",
              " 1,\n",
              " 1,\n",
              " 1,\n",
              " 1,\n",
              " 1,\n",
              " 1,\n",
              " 1,\n",
              " 1,\n",
              " 1,\n",
              " 1]"
            ]
          },
          "metadata": {},
          "execution_count": 16
        }
      ]
    },
    {
      "cell_type": "code",
      "source": [
        "import matplotlib.pyplot as plt\n",
        "\n",
        "Count= [9,5,5,4,3,3,3,3,3,2,2,2,2,1]\n",
        "bestsellers = ['Rowling, J.K.','Brown, Dan','Oliver, Jamie','Meyer, Stephenie',\n",
        "             'Bryson, Bill','Donaldson, Julia','James, E. L.','Larsson, Stieg',\n",
        "             'Pullman, Philip','Fielding, Helen','Grisham, John',\n",
        "             'Hosseini, Khaled','Pelzer, Dave','Other Authors']\n",
        "\n",
        "plt.barh(bestsellers,Count)\n",
        "plt.title('Number of Best Selling books by Author')\n",
        "plt.ylabel('Authors')\n",
        "plt.xlabel ('Counts')\n",
        "plt.show()"
      ],
      "metadata": {
        "colab": {
          "base_uri": "https://localhost:8080/",
          "height": 295
        },
        "id": "ys-zC2Ub9GNO",
        "outputId": "1f9494ba-6fc7-4515-9e72-7bc4e1ac87e4"
      },
      "execution_count": 32,
      "outputs": [
        {
          "output_type": "display_data",
          "data": {
            "text/plain": [
              "<Figure size 432x288 with 1 Axes>"
            ],
            "image/png": "[encoded data removed]"
          },
          "metadata": {
            "needs_background": "light"
          }
        }
      ]
    },
    {
      "cell_type": "code",
      "source": [
        "Publisher_Column=pd.value_counts(Books['Publisher'])\n",
        "print(Publisher_Column)"
      ],
      "metadata": {
        "colab": {
          "base_uri": "https://localhost:8080/"
        },
        "id": "w5-ujnSEFj9l",
        "outputId": "26fb012d-17d6-4021-d4fd-312451201e83"
      },
      "execution_count": 33,
      "outputs": [
        {
          "output_type": "stream",
          "name": "stdout",
          "text": [
            "Random House Grp                  19\n",
            "Transworld Grp                    14\n",
            "Penguin Grp                       14\n",
            "Bloomsbury Grp                    11\n",
            "Pan Macmillan Grp                  7\n",
            "HarperCollins Grp                  7\n",
            "Little, Brown Book Grp             6\n",
            "Orion Grp                          5\n",
            "Scholastic Ltd. Grp                4\n",
            "Quercus Grp                        3\n",
            "Hodder & Stoughton Grp             3\n",
            "Headline Grp                       3\n",
            "Canongate Grp                      1\n",
            "Profile Books Group                1\n",
            "Random House Childrens Books G     1\n",
            "Name: Publisher, dtype: int64\n"
          ]
        }
      ]
    },
    {
      "cell_type": "code",
      "source": [
        "list(Publisher_Column)"
      ],
      "metadata": {
        "colab": {
          "base_uri": "https://localhost:8080/"
        },
        "id": "RoZ8SzLHGjkC",
        "outputId": "13293605-68c2-4d88-9df5-180e4478a42e"
      },
      "execution_count": 36,
      "outputs": [
        {
          "output_type": "execute_result",
          "data": {
            "text/plain": [
              "[19, 14, 14, 11, 7, 7, 6, 5, 4, 3, 3, 3, 1, 1, 1]"
            ]
          },
          "metadata": {},
          "execution_count": 36
        }
      ]
    },
    {
      "cell_type": "code",
      "source": [
        "#Here we are formatting a bar graph with the values and making the graph look more presentable\n",
        "Publisher_Column = ['Random House Grp','Transworld Grp','Penguin Grp','Bloomsbury Grp',\n",
        "                    'Pan Macmillan Grp','HarperCollins Grp','Little, Brown Book Grp',\n",
        "                    'Orion Grp','Scholastic Ltd. Grp','Quercus Grp','Hodder & Stoughton Grp',\n",
        "                    'Headline Grp','Canongate Grp','Profile Books Group',\n",
        "                    'Random House Childrens Books G'] \n",
        "Count= [19, 14, 14, 11, 7, 7, 6, 5, 4, 3, 3, 3, 1, 1, 1]\n",
        "plt.bar(Publisher_Column, Count,color='ckkkkkkkkkkkkkk')  \n",
        "#ha is short for horizontal alignment\n",
        "plt.xticks(rotation=90, ha='right')\n",
        "plt.title('Best Selling books by Publisher')\n",
        "plt.ylabel('Count')"
      ],
      "metadata": {
        "colab": {
          "base_uri": "https://localhost:8080/",
          "height": 517
        },
        "id": "9vCaDBl2GUhq",
        "outputId": "c7920df8-0b4b-46bc-a620-40e363d747cb"
      },
      "execution_count": 56,
      "outputs": [
        {
          "output_type": "stream",
          "name": "stderr",
          "text": [
            "/usr/local/lib/python3.7/dist-packages/ipykernel_launcher.py:8: MatplotlibDeprecationWarning: Using a string of single character colors as a color sequence is deprecated. Use an explicit list instead.\n",
            "  \n"
          ]
        },
        {
          "output_type": "execute_result",
          "data": {
            "text/plain": [
              "Text(0, 0.5, 'Count')"
            ]
          },
          "metadata": {},
          "execution_count": 56
        },
        {
          "output_type": "display_data",
          "data": {
            "text/plain": [
              "<Figure size 432x288 with 1 Axes>"
            ],
            "image/png": "[encoded data removed]"
          },
          "metadata": {
            "needs_background": "light"
          }
        }
      ]
    },
    {
      "cell_type": "markdown",
      "source": [
        "Findings: Here you can see that most of the best selling books from the dataset have been published through the 'Random house Grp'. As a new author, it could be helpful to have a book published here because they have a history of creating favored products."
      ],
      "metadata": {
        "id": "oA9CJLZ5YPRg"
      }
    }
  ]
}