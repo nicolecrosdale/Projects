{
  "nbformat": 4,
  "nbformat_minor": 0,
  "metadata": {
    "colab": {
      "name": "SecretNumbers.ipynb",
      "provenance": []
    },
    "kernelspec": {
      "name": "python3",
      "display_name": "Python 3"
    },
    "language_info": {
      "name": "python"
    }
  },
  "cells": [
    {
      "cell_type": "code",
      "execution_count": 8,
      "metadata": {
        "id": "k5l4K9uF8RpH",
        "colab": {
          "base_uri": "https://localhost:8080/"
        },
        "outputId": "b53954af-ad55-4e97-9f02-3e97fdf7e2a2"
      },
      "outputs": [
        {
          "output_type": "stream",
          "name": "stdout",
          "text": [
            "Guess a number between 1 and 50:49\n",
            "Oh gosh, your number is too high, try again.\n",
            "Guess a number between 1 and 50:33\n",
            "Oh gosh, your number is too high, try again.\n",
            "Guess a number between 1 and 50:20\n",
            "Aw man, your number is too low.\n",
            "Guess a number between 1 and 50:35\n",
            "Oh gosh, your number is too high, try again.\n",
            "Guess a number between 1 and 50:31\n",
            "Oh gosh, your number is too high, try again.\n",
            "Guess a number between 1 and 50:30\n",
            "Yay, congrats. You have guessed the number 30\n"
          ]
        }
      ],
      "source": [
        "#Program the computer to generate a random number and then we have to guess \n",
        "#what that integer is!\n",
        "import random\n",
        "#define guess and make the variable a parameter\n",
        "#randint will return a random number\n",
        "#use while loop will allow you to loop to get the right answer, we also don't \n",
        "#have a predefined universe so we will use the while loop\n",
        "def guess(x):\n",
        "  random_number=random.randint(1,x)\n",
        "  guess=0\n",
        "  while guess != random_number:\n",
        "      guess= int(input(f'Guess a number between 1 and {x}:'))\n",
        "      if guess < random_number:\n",
        "        print('Aw man, your number is too low.')\n",
        "      elif guess > random_number:\n",
        "        print('Oh gosh, your number is too high, try again.')\n",
        "\n",
        "  print (f'Yay, congrats. You have guessed the number {random_number}')\n",
        "\n",
        "guess(50)\n",
        "\n"
      ]
    }
  ]
}