{
  "nbformat": 4,
  "nbformat_minor": 0,
  "metadata": {
    "colab": {
      "name": "Spotify_Data.ipynb",
      "provenance": []
    },
    "kernelspec": {
      "name": "python3",
      "display_name": "Python 3"
    },
    "language_info": {
      "name": "python"
    }
  },
  "cells": [
    {
      "cell_type": "markdown",
      "source": [
        "Spotify Streaming data from March 9th,2022 - April 23rd, 2022"
      ],
      "metadata": {
        "id": "9ptvdHyxfQ7j"
      }
    },
    {
      "cell_type": "code",
      "execution_count": 26,
      "metadata": {
        "id": "YBiFY5j3kzXw"
      },
      "outputs": [],
      "source": [
        "import pandas as pd\n",
        "import matplotlib.pyplot as plt\n",
        "import numpy as np\n",
        "import seaborn as sns\n",
        "import datetime"
      ]
    },
    {
      "cell_type": "code",
      "source": [
        "def load_data(file):                                                    \n",
        "    return pd.read_csv(file, sep = \",\", index_col = False, header=0)\n",
        "songs=pd.read_excel(\"StreamingHistory.xlsx\")"
      ],
      "metadata": {
        "id": "GbfEEnf9a9yZ"
      },
      "execution_count": 27,
      "outputs": []
    },
    {
      "cell_type": "code",
      "source": [
        "songs.count()"
      ],
      "metadata": {
        "colab": {
          "base_uri": "https://localhost:8080/"
        },
        "id": "EkWc-aMFICm2",
        "outputId": "a2292010-8599-4054-fdfa-e0664f322f79"
      },
      "execution_count": 28,
      "outputs": [
        {
          "output_type": "execute_result",
          "data": {
            "text/plain": [
              "record              0\n",
              "endTime          2608\n",
              "day              2608\n",
              "wkday            2608\n",
              "time             2608\n",
              "artistName       2608\n",
              "trackName        2608\n",
              "milisecPlayed    2608\n",
              "dtype: int64"
            ]
          },
          "metadata": {},
          "execution_count": 28
        }
      ]
    },
    {
      "cell_type": "code",
      "source": [
        "print(songs.shape)"
      ],
      "metadata": {
        "colab": {
          "base_uri": "https://localhost:8080/"
        },
        "id": "I8U-eXYTqFad",
        "outputId": "68ef8cb8-28b1-4db1-ed6d-bdef8c0dd416"
      },
      "execution_count": 29,
      "outputs": [
        {
          "output_type": "stream",
          "name": "stdout",
          "text": [
            "(2608, 8)\n"
          ]
        }
      ]
    },
    {
      "cell_type": "markdown",
      "source": [
        "Dropped the 'record' column because they were not useful. It did not have any values in the column"
      ],
      "metadata": {
        "id": "fCUTeJ0liEyz"
      }
    },
    {
      "cell_type": "code",
      "source": [
        "# Remove column name 'record'\n",
        "songs_clean=songs.drop(['record'], axis = 1)"
      ],
      "metadata": {
        "id": "wez_0sq2f_2e"
      },
      "execution_count": 30,
      "outputs": []
    },
    {
      "cell_type": "code",
      "source": [
        "print(songs_clean.shape)"
      ],
      "metadata": {
        "colab": {
          "base_uri": "https://localhost:8080/"
        },
        "id": "6NcrxYqXkHW4",
        "outputId": "cd5acea3-b183-4cb0-ad25-78637dd3ba4d"
      },
      "execution_count": 31,
      "outputs": [
        {
          "output_type": "stream",
          "name": "stdout",
          "text": [
            "(2608, 7)\n"
          ]
        }
      ]
    },
    {
      "cell_type": "markdown",
      "source": [
        "Here, I am only concerned with the songs that were listened to for more than 1 minute(>60,0000 miliseconds). I would consider songs that were listened to for less than 1 minute to be skips or the individual did not like the song enough to listen to the whole thing."
      ],
      "metadata": {
        "id": "Su5HskdlizX7"
      }
    },
    {
      "cell_type": "code",
      "source": [
        "#Drop songs that are listened to for less than 60,000 miliseconds\n",
        "songs_filtered = songs_clean[songs_clean['milisecPlayed'] >= 60000]"
      ],
      "metadata": {
        "id": "tGM_NAPeqaiS"
      },
      "execution_count": 32,
      "outputs": []
    },
    {
      "cell_type": "code",
      "source": [
        "# Print the new dataframe\n",
        "print(songs_filtered)"
      ],
      "metadata": {
        "colab": {
          "base_uri": "https://localhost:8080/"
        },
        "id": "-72tGd2bgKkC",
        "outputId": "6be197e2-c79c-49a6-bfce-38eb068e7ab5"
      },
      "execution_count": 33,
      "outputs": [
        {
          "output_type": "stream",
          "name": "stdout",
          "text": [
            "               endTime         day wkday   time     artistName  \\\n",
            "0     2022-03-09 15:00  2022-03-09   Wed  15:00           LÉON   \n",
            "1     2022-03-09 15:03  2022-03-09   Wed  15:03           LÉON   \n",
            "2     2022-03-09 15:06  2022-03-09   Wed  15:06           LÉON   \n",
            "3     2022-03-09 15:09  2022-03-09   Wed  15:09           LÉON   \n",
            "5     2022-03-10 03:20  2022-03-10   Thu  03:20           LÉON   \n",
            "...                ...         ...   ...    ...            ...   \n",
            "2603  2022-04-23 10:49  2022-04-23   Sat  10:49        JORDANN   \n",
            "2604  2022-04-23 10:52  2022-04-23   Sat  10:52  Lennon Stella   \n",
            "2605  2022-04-23 10:56  2022-04-23   Sat  10:56          BENEE   \n",
            "2606  2022-04-23 11:01  2022-04-23   Sat  11:01        Kimchii   \n",
            "2607  2022-04-23 11:05  2022-04-23   Sat  11:05        Glassio   \n",
            "\n",
            "                            trackName  milisecPlayed  \n",
            "0                    Wishful Thinking         243203  \n",
            "1                              Soaked         212262  \n",
            "2                   Fade Into A Dream         171901  \n",
            "3                       All My Heroes         205953  \n",
            "5                      Look Like That         200715  \n",
            "...                               ...            ...  \n",
            "2603               Business Solutions         220146  \n",
            "2604                  Older Than I Am         181533  \n",
            "2605                           Soaked         240946  \n",
            "2606  When You Feel the Time Is Right         340985  \n",
            "2607   Are You Having Fun Without Me?         224121  \n",
            "\n",
            "[2127 rows x 7 columns]\n"
          ]
        }
      ]
    },
    {
      "cell_type": "code",
      "source": [
        "# Print the shape of the dataframe\n",
        "print(songs_filtered.shape)"
      ],
      "metadata": {
        "colab": {
          "base_uri": "https://localhost:8080/"
        },
        "id": "QmRjdfTYgMKb",
        "outputId": "0d4a7cd3-8ed2-4cd4-a021-d1f6c8c079ed"
      },
      "execution_count": 34,
      "outputs": [
        {
          "output_type": "stream",
          "name": "stdout",
          "text": [
            "(2127, 7)\n"
          ]
        }
      ]
    },
    {
      "cell_type": "code",
      "source": [
        "# iterating the columns\n",
        "for col in songs.columns:\n",
        "    print(col)"
      ],
      "metadata": {
        "colab": {
          "base_uri": "https://localhost:8080/"
        },
        "id": "1-wIl4BJMAAx",
        "outputId": "38424c14-a587-4cf0-b9b7-3f735ac26ebe"
      },
      "execution_count": 35,
      "outputs": [
        {
          "output_type": "stream",
          "name": "stdout",
          "text": [
            "record\n",
            "endTime\n",
            "day\n",
            "wkday\n",
            "time\n",
            "artistName\n",
            "trackName\n",
            "milisecPlayed\n"
          ]
        }
      ]
    },
    {
      "cell_type": "markdown",
      "source": [
        "What day of the week most songs are streamed"
      ],
      "metadata": {
        "id": "m-7fHGK3lf2e"
      }
    },
    {
      "cell_type": "code",
      "source": [
        "#define days and time muic is played\n",
        "df = pd.DataFrame(songs_filtered)\n",
        "  \n",
        "# select two columns\n",
        "df[['day','wkday', 'milisecPlayed']]"
      ],
      "metadata": {
        "colab": {
          "base_uri": "https://localhost:8080/",
          "height": 423
        },
        "id": "5TAOJ_oEMvCD",
        "outputId": "46d9d96e-f5d9-4362-886d-e86d35b6cea9"
      },
      "execution_count": 36,
      "outputs": [
        {
          "output_type": "execute_result",
          "data": {
            "text/plain": [
              "             day wkday  milisecPlayed\n",
              "0     2022-03-09   Wed         243203\n",
              "1     2022-03-09   Wed         212262\n",
              "2     2022-03-09   Wed         171901\n",
              "3     2022-03-09   Wed         205953\n",
              "5     2022-03-10   Thu         200715\n",
              "...          ...   ...            ...\n",
              "2603  2022-04-23   Sat         220146\n",
              "2604  2022-04-23   Sat         181533\n",
              "2605  2022-04-23   Sat         240946\n",
              "2606  2022-04-23   Sat         340985\n",
              "2607  2022-04-23   Sat         224121\n",
              "\n",
              "[2127 rows x 3 columns]"
            ],
            "text/html": [
              "\n",
              "  <div id=\"df-1b2c96ad-4860-49c3-81bc-c5964cfa1d92\">\n",
              "    <div class=\"colab-df-container\">\n",
              "      <div>\n",
              "<style scoped>\n",
              "    .dataframe tbody tr th:only-of-type {\n",
              "        vertical-align: middle;\n",
              "    }\n",
              "\n",
              "    .dataframe tbody tr th {\n",
              "        vertical-align: top;\n",
              "    }\n",
              "\n",
              "    .dataframe thead th {\n",
              "        text-align: right;\n",
              "    }\n",
              "</style>\n",
              "<table border=\"1\" class=\"dataframe\">\n",
              "  <thead>\n",
              "    <tr style=\"text-align: right;\">\n",
              "      <th></th>\n",
              "      <th>day</th>\n",
              "      <th>wkday</th>\n",
              "      <th>milisecPlayed</th>\n",
              "    </tr>\n",
              "  </thead>\n",
              "  <tbody>\n",
              "    <tr>\n",
              "      <th>0</th>\n",
              "      <td>2022-03-09</td>\n",
              "      <td>Wed</td>\n",
              "      <td>243203</td>\n",
              "    </tr>\n",
              "    <tr>\n",
              "      <th>1</th>\n",
              "      <td>2022-03-09</td>\n",
              "      <td>Wed</td>\n",
              "      <td>212262</td>\n",
              "    </tr>\n",
              "    <tr>\n",
              "      <th>2</th>\n",
              "      <td>2022-03-09</td>\n",
              "      <td>Wed</td>\n",
              "      <td>171901</td>\n",
              "    </tr>\n",
              "    <tr>\n",
              "      <th>3</th>\n",
              "      <td>2022-03-09</td>\n",
              "      <td>Wed</td>\n",
              "      <td>205953</td>\n",
              "    </tr>\n",
              "    <tr>\n",
              "      <th>5</th>\n",
              "      <td>2022-03-10</td>\n",
              "      <td>Thu</td>\n",
              "      <td>200715</td>\n",
              "    </tr>\n",
              "    <tr>\n",
              "      <th>...</th>\n",
              "      <td>...</td>\n",
              "      <td>...</td>\n",
              "      <td>...</td>\n",
              "    </tr>\n",
              "    <tr>\n",
              "      <th>2603</th>\n",
              "      <td>2022-04-23</td>\n",
              "      <td>Sat</td>\n",
              "      <td>220146</td>\n",
              "    </tr>\n",
              "    <tr>\n",
              "      <th>2604</th>\n",
              "      <td>2022-04-23</td>\n",
              "      <td>Sat</td>\n",
              "      <td>181533</td>\n",
              "    </tr>\n",
              "    <tr>\n",
              "      <th>2605</th>\n",
              "      <td>2022-04-23</td>\n",
              "      <td>Sat</td>\n",
              "      <td>240946</td>\n",
              "    </tr>\n",
              "    <tr>\n",
              "      <th>2606</th>\n",
              "      <td>2022-04-23</td>\n",
              "      <td>Sat</td>\n",
              "      <td>340985</td>\n",
              "    </tr>\n",
              "    <tr>\n",
              "      <th>2607</th>\n",
              "      <td>2022-04-23</td>\n",
              "      <td>Sat</td>\n",
              "      <td>224121</td>\n",
              "    </tr>\n",
              "  </tbody>\n",
              "</table>\n",
              "<p>2127 rows × 3 columns</p>\n",
              "</div>\n",
              "      <button class=\"colab-df-convert\" onclick=\"convertToInteractive('df-1b2c96ad-4860-49c3-81bc-c5964cfa1d92')\"\n",
              "              title=\"Convert this dataframe to an interactive table.\"\n",
              "              style=\"display:none;\">\n",
              "        \n",
              "  <svg xmlns=\"http://www.w3.org/2000/svg\" height=\"24px\"viewBox=\"0 0 24 24\"\n",
              "       width=\"24px\">\n",
              "    <path d=\"M0 0h24v24H0V0z\" fill=\"none\"/>\n",
              "    <path d=\"M18.56 5.44l.94 2.06.94-2.06 2.06-.94-2.06-.94-.94-2.06-.94 2.06-2.06.94zm-11 1L8.5 8.5l.94-2.06 2.06-.94-2.06-.94L8.5 2.5l-.94 2.06-2.06.94zm10 10l.94 2.06.94-2.06 2.06-.94-2.06-.94-.94-2.06-.94 2.06-2.06.94z\"/><path d=\"M17.41 7.96l-1.37-1.37c-.4-.4-.92-.59-1.43-.59-.52 0-1.04.2-1.43.59L10.3 9.45l-7.72 7.72c-.78.78-.78 2.05 0 2.83L4 21.41c.39.39.9.59 1.41.59.51 0 1.02-.2 1.41-.59l7.78-7.78 2.81-2.81c.8-.78.8-2.07 0-2.86zM5.41 20L4 18.59l7.72-7.72 1.47 1.35L5.41 20z\"/>\n",
              "  </svg>\n",
              "      </button>\n",
              "      \n",
              "  <style>\n",
              "    .colab-df-container {\n",
              "      display:flex;\n",
              "      flex-wrap:wrap;\n",
              "      gap: 12px;\n",
              "    }\n",
              "\n",
              "    .colab-df-convert {\n",
              "      background-color: #E8F0FE;\n",
              "      border: none;\n",
              "      border-radius: 50%;\n",
              "      cursor: pointer;\n",
              "      display: none;\n",
              "      fill: #1967D2;\n",
              "      height: 32px;\n",
              "      padding: 0 0 0 0;\n",
              "      width: 32px;\n",
              "    }\n",
              "\n",
              "    .colab-df-convert:hover {\n",
              "      background-color: #E2EBFA;\n",
              "      box-shadow: 0px 1px 2px rgba(60, 64, 67, 0.3), 0px 1px 3px 1px rgba(60, 64, 67, 0.15);\n",
              "      fill: #174EA6;\n",
              "    }\n",
              "\n",
              "    [theme=dark] .colab-df-convert {\n",
              "      background-color: #3B4455;\n",
              "      fill: #D2E3FC;\n",
              "    }\n",
              "\n",
              "    [theme=dark] .colab-df-convert:hover {\n",
              "      background-color: #434B5C;\n",
              "      box-shadow: 0px 1px 3px 1px rgba(0, 0, 0, 0.15);\n",
              "      filter: drop-shadow(0px 1px 2px rgba(0, 0, 0, 0.3));\n",
              "      fill: #FFFFFF;\n",
              "    }\n",
              "  </style>\n",
              "\n",
              "      <script>\n",
              "        const buttonEl =\n",
              "          document.querySelector('#df-1b2c96ad-4860-49c3-81bc-c5964cfa1d92 button.colab-df-convert');\n",
              "        buttonEl.style.display =\n",
              "          google.colab.kernel.accessAllowed ? 'block' : 'none';\n",
              "\n",
              "        async function convertToInteractive(key) {\n",
              "          const element = document.querySelector('#df-1b2c96ad-4860-49c3-81bc-c5964cfa1d92');\n",
              "          const dataTable =\n",
              "            await google.colab.kernel.invokeFunction('convertToInteractive',\n",
              "                                                     [key], {});\n",
              "          if (!dataTable) return;\n",
              "\n",
              "          const docLinkHtml = 'Like what you see? Visit the ' +\n",
              "            '<a target=\"_blank\" href=https://colab.research.google.com/notebooks/data_table.ipynb>data table notebook</a>'\n",
              "            + ' to learn more about interactive tables.';\n",
              "          element.innerHTML = '';\n",
              "          dataTable['output_type'] = 'display_data';\n",
              "          await google.colab.output.renderOutput(dataTable, element);\n",
              "          const docLink = document.createElement('div');\n",
              "          docLink.innerHTML = docLinkHtml;\n",
              "          element.appendChild(docLink);\n",
              "        }\n",
              "      </script>\n",
              "    </div>\n",
              "  </div>\n",
              "  "
            ]
          },
          "metadata": {},
          "execution_count": 36
        }
      ]
    },
    {
      "cell_type": "code",
      "source": [
        "monday=df.loc[df['wkday'] =='Mon','milisecPlayed'].sum()\n",
        "mondaysongs=monday/60000\n",
        "mondaysongs"
      ],
      "metadata": {
        "colab": {
          "base_uri": "https://localhost:8080/"
        },
        "id": "KnDmkmnYe_0p",
        "outputId": "4b1f3788-6ee5-40d2-ca71-18cc30abbd4a"
      },
      "execution_count": 37,
      "outputs": [
        {
          "output_type": "execute_result",
          "data": {
            "text/plain": [
              "1304.7198666666666"
            ]
          },
          "metadata": {},
          "execution_count": 37
        }
      ]
    },
    {
      "cell_type": "code",
      "source": [
        "tuesday=df.loc[df['wkday'] =='Tue','milisecPlayed'].sum()\n",
        "tuesdaysongs=tuesday/60000\n",
        "tuesdaysongs"
      ],
      "metadata": {
        "colab": {
          "base_uri": "https://localhost:8080/"
        },
        "id": "ZkxVdBBee_pa",
        "outputId": "7c87d32e-db4e-408c-800b-4aa31fc89549"
      },
      "execution_count": 38,
      "outputs": [
        {
          "output_type": "execute_result",
          "data": {
            "text/plain": [
              "852.7872333333333"
            ]
          },
          "metadata": {},
          "execution_count": 38
        }
      ]
    },
    {
      "cell_type": "code",
      "source": [
        "wednesday=df.loc[df['wkday'] =='Wed','milisecPlayed'].sum()\n",
        "wednesdaysongs=wednesday/60000\n",
        "wednesdaysongs"
      ],
      "metadata": {
        "colab": {
          "base_uri": "https://localhost:8080/"
        },
        "id": "EIYFFLupe_al",
        "outputId": "a1b2f93d-bf84-45c3-d8b3-aab5a27249d7"
      },
      "execution_count": 39,
      "outputs": [
        {
          "output_type": "execute_result",
          "data": {
            "text/plain": [
              "709.7929666666666"
            ]
          },
          "metadata": {},
          "execution_count": 39
        }
      ]
    },
    {
      "cell_type": "code",
      "source": [
        "thursday=df.loc[df['wkday'] =='Thu','milisecPlayed'].sum()\n",
        "thursdaysongs=thursday/60000\n",
        "thursdaysongs"
      ],
      "metadata": {
        "colab": {
          "base_uri": "https://localhost:8080/"
        },
        "id": "7esRB6c9e-hS",
        "outputId": "e814a9ec-42d7-4adf-93b0-4f8c29e3de77"
      },
      "execution_count": 40,
      "outputs": [
        {
          "output_type": "execute_result",
          "data": {
            "text/plain": [
              "870.2789833333334"
            ]
          },
          "metadata": {},
          "execution_count": 40
        }
      ]
    },
    {
      "cell_type": "code",
      "source": [
        "friday=df.loc[df['wkday'] =='Fri','milisecPlayed'].sum()\n",
        "fridaysongs=friday/60000\n",
        "fridaysongs"
      ],
      "metadata": {
        "colab": {
          "base_uri": "https://localhost:8080/"
        },
        "id": "byKoxx8Oe-Ji",
        "outputId": "aaa77508-f723-47ab-8676-9b6102b01ecb"
      },
      "execution_count": 41,
      "outputs": [
        {
          "output_type": "execute_result",
          "data": {
            "text/plain": [
              "1582.42215"
            ]
          },
          "metadata": {},
          "execution_count": 41
        }
      ]
    },
    {
      "cell_type": "code",
      "source": [
        "saturday=df.loc[df['wkday'] =='Sat','milisecPlayed'].sum()\n",
        "saturdaysongs=saturday/60000\n",
        "saturdaysongs"
      ],
      "metadata": {
        "colab": {
          "base_uri": "https://localhost:8080/"
        },
        "id": "XLHGEKoke90w",
        "outputId": "178aa7dd-bf28-49f2-e6dd-8dbbf1631b1f"
      },
      "execution_count": 42,
      "outputs": [
        {
          "output_type": "execute_result",
          "data": {
            "text/plain": [
              "1384.6175833333334"
            ]
          },
          "metadata": {},
          "execution_count": 42
        }
      ]
    },
    {
      "cell_type": "code",
      "source": [
        "sunday=df.loc[df['wkday'] =='Sun','milisecPlayed'].sum()\n",
        "sundaysongs=sunday/60000\n",
        "sundaysongs"
      ],
      "metadata": {
        "colab": {
          "base_uri": "https://localhost:8080/"
        },
        "id": "RcaCMufueZoU",
        "outputId": "fe97143d-1f85-4968-97e7-387994640bc4"
      },
      "execution_count": 43,
      "outputs": [
        {
          "output_type": "execute_result",
          "data": {
            "text/plain": [
              "1038.0428833333333"
            ]
          },
          "metadata": {},
          "execution_count": 43
        }
      ]
    },
    {
      "cell_type": "code",
      "source": [
        "day = ['Mon','Tue','Wed','Thu','Fri','Sat','Sun']\n",
        "min_listened = [1304.7198666666666,852.7872333333333,709.7929666666666,\n",
        "                870.2789833333334,1582.42215,1384.6175833333334,\n",
        "                1038.0428833333333]\n",
        "plt.plot(day, min_listened, color='Green')\n",
        "plt.scatter(day, min_listened, color='Black')\n",
        "plt.xlabel('Day')\n",
        "plt.ylabel('Minutes Listened')\n",
        "plt.title('Minutes Listened per Day')\n",
        "plt.show()"
      ],
      "metadata": {
        "colab": {
          "base_uri": "https://localhost:8080/",
          "height": 295
        },
        "id": "iGR62JY9joMM",
        "outputId": "6fe3c952-06a3-4078-e36a-d28f5ce1ed90"
      },
      "execution_count": 51,
      "outputs": [
        {
          "output_type": "display_data",
          "data": {
            "text/plain": [
              "<Figure size 432x288 with 1 Axes>"
            ],
            "image/png": "[encoded data removed]"
          },
          "metadata": {
            "needs_background": "light"
          }
        }
      ]
    },
    {
      "cell_type": "markdown",
      "source": [
        "Findings: Here we can see that the user listened to music the most on Friday and the least on Wednesdays. With this information, this user should have more new music ads on Friday because the user is more likely to see it! If Spotify wants to encourage the user to use the app more during the lower listened to days, they should auto play more 'low-fi' or 'chill' music. This user seems to be busier Tuesday, Wednesday and Thursday so they may not want over-baring music when they are focused."
      ],
      "metadata": {
        "id": "JrCbzXbDqR3L"
      }
    },
    {
      "cell_type": "markdown",
      "source": [
        "Most Streamed Song "
      ],
      "metadata": {
        "id": "mVqE8kFsTgmb"
      }
    },
    {
      "cell_type": "code",
      "source": [
        "trackName=pd.value_counts(songs_filtered['trackName'])\n",
        "print(trackName)"
      ],
      "metadata": {
        "colab": {
          "base_uri": "https://localhost:8080/"
        },
        "id": "T8f2kHacTry_",
        "outputId": "5a914f71-eefd-4a44-ba91-316875ec07af"
      },
      "execution_count": 45,
      "outputs": [
        {
          "output_type": "stream",
          "name": "stdout",
          "text": [
            "muse                                            42\n",
            "Love Me Like I Am                               38\n",
            "Look Like That                                  35\n",
            "scorton's creek - re-imagined by filous         33\n",
            "Big Energy                                      31\n",
            "                                                ..\n",
            "Situations                                       1\n",
            "Upside Down                                      1\n",
            "I Can't Help Myself (Sugar Pie, Honey Bunch)     1\n",
            "Remedy                                           1\n",
            "Are You Having Fun Without Me?                   1\n",
            "Name: trackName, Length: 909, dtype: int64\n"
          ]
        }
      ]
    },
    {
      "cell_type": "code",
      "source": [
        "top10=trackName.head(10)\n",
        "print(top10)"
      ],
      "metadata": {
        "colab": {
          "base_uri": "https://localhost:8080/"
        },
        "id": "2EM2W4cpXfGU",
        "outputId": "e871ab65-1e2a-418d-b7e9-4f130fe04d08"
      },
      "execution_count": 46,
      "outputs": [
        {
          "output_type": "stream",
          "name": "stdout",
          "text": [
            "muse                                       42\n",
            "Love Me Like I Am                          38\n",
            "Look Like That                             35\n",
            "scorton's creek - re-imagined by filous    33\n",
            "Big Energy                                 31\n",
            "All My Heroes                              28\n",
            "Soaked                                     26\n",
            "Lift You Up                                26\n",
            "N/S                                        22\n",
            "Less Than Zero                             22\n",
            "Name: trackName, dtype: int64\n"
          ]
        }
      ]
    },
    {
      "cell_type": "code",
      "source": [
        "trackName = ['muse','Love Me Like I Am','Look Like That','scorton\\'s creek re-imagined',\n",
        "             'Big Energy','All My Heroes','Soaked','Lift You Up','N/S','Less Than Zero'] \n",
        "Count=[42,38,35,33,31,28,26,26,22,22]\n",
        "plt.bar(trackName,Count)  \n",
        "plt.xticks(rotation=45, ha='right')\n",
        "figsize=(20,20)\n",
        "plt.title('Top Ten Streamed to Songs')\n",
        "plt.ylabel('Count')"
      ],
      "metadata": {
        "colab": {
          "base_uri": "https://localhost:8080/",
          "height": 396
        },
        "id": "3V-GgYERWhaW",
        "outputId": "621be7df-cbd5-4a02-8668-e9e2d72ec5ad"
      },
      "execution_count": 53,
      "outputs": [
        {
          "output_type": "execute_result",
          "data": {
            "text/plain": [
              "Text(0, 0.5, 'Count')"
            ]
          },
          "metadata": {},
          "execution_count": 53
        },
        {
          "output_type": "display_data",
          "data": {
            "text/plain": [
              "<Figure size 432x288 with 1 Axes>"
            ],
            "image/png": "[encoded data removed]"
          },
          "metadata": {
            "needs_background": "light"
          }
        }
      ]
    },
    {
      "cell_type": "markdown",
      "source": [
        "Findings: Most listened to song is 'muse' so Spotify should target music that is in the same genre or artist for this user"
      ],
      "metadata": {
        "id": "IvYuj3lYsJ_9"
      }
    },
    {
      "cell_type": "markdown",
      "source": [
        "Most streamed artist"
      ],
      "metadata": {
        "id": "ikKoUB24Tj4F"
      }
    },
    {
      "cell_type": "code",
      "source": [
        "Artists=pd.value_counts(songs_filtered['artistName'])\n",
        "print(Artists)"
      ],
      "metadata": {
        "colab": {
          "base_uri": "https://localhost:8080/"
        },
        "id": "dDQ6eH49TssC",
        "outputId": "ad2793a4-50ad-4c83-f6bc-887d28789b68"
      },
      "execution_count": 48,
      "outputs": [
        {
          "output_type": "stream",
          "name": "stdout",
          "text": [
            "LÉON                      246\n",
            "Florence + The Machine    130\n",
            "for KING & COUNTRY         81\n",
            "Tim Atlas                  61\n",
            "MisterWives                45\n",
            "                         ... \n",
            "Wrabel                      1\n",
            "Bruno Major                 1\n",
            "Wild Rivers                 1\n",
            "James Bay                   1\n",
            "Kimchii                     1\n",
            "Name: artistName, Length: 394, dtype: int64\n"
          ]
        }
      ]
    },
    {
      "cell_type": "code",
      "source": [
        "Artists.head(20)"
      ],
      "metadata": {
        "colab": {
          "base_uri": "https://localhost:8080/"
        },
        "id": "wP7csIlYf-Rn",
        "outputId": "bed05365-ceb5-4edf-9b4c-0cf970e18c14"
      },
      "execution_count": 49,
      "outputs": [
        {
          "output_type": "execute_result",
          "data": {
            "text/plain": [
              "LÉON                      246\n",
              "Florence + The Machine    130\n",
              "for KING & COUNTRY         81\n",
              "Tim Atlas                  61\n",
              "MisterWives                45\n",
              "Ariana Grande              39\n",
              "The Weeknd                 39\n",
              "COIN                       38\n",
              "Isaac Dunbar               35\n",
              "Latto                      32\n",
              "Ellie Goulding             28\n",
              "John Mayer                 27\n",
              "Thomas Newman              26\n",
              "Justin Timberlake          26\n",
              "Lana Del Rey               24\n",
              "Litany                     23\n",
              "Stray Kids                 22\n",
              "Bad Suns                   22\n",
              "Post Malone                22\n",
              "The Morning Toast          20\n",
              "Name: artistName, dtype: int64"
            ]
          },
          "metadata": {},
          "execution_count": 49
        }
      ]
    },
    {
      "cell_type": "code",
      "source": [
        "artistsName = ['for KING & COUNTRY','Stray Kids',\n",
        "'The Weeknd','Isaac Dunbar','Latto','Ariana Grande',\n",
        "'Ellie Goulding','John Mayer','LÉON','Justin Timberlake',\n",
        "'Litany','Tim Atlas','Thomas Newman','MisterWives','Bad Suns','COIN',\n",
        "'Post Malone','Florence + The Machine','Lana Del Rey','The Morning Toast'] \n",
        "Count=[81,22, 39,35,32,39,28,27,246,26,23,61,26,45,22,38,22,130,24,20]\n",
        "plt.barh(artistsName, Count, color='kkkkkkkkgkkkkkkkkkkkk')\n",
        "figsize=(20,20)\n",
        "plt.xticks(ha='right')\n",
        "plt.title('Mar.9-Apr.23,2022 | Top 20 | Streamed Artists')\n",
        "plt.ylabel('Count')"
      ],
      "metadata": {
        "colab": {
          "base_uri": "https://localhost:8080/",
          "height": 357
        },
        "id": "YWPfiGmXgIHY",
        "outputId": "bfc7f741-3af7-4682-f503-a08ad6c86f61"
      },
      "execution_count": 83,
      "outputs": [
        {
          "output_type": "stream",
          "name": "stderr",
          "text": [
            "/usr/local/lib/python3.7/dist-packages/ipykernel_launcher.py:7: MatplotlibDeprecationWarning: Using a string of single character colors as a color sequence is deprecated. Use an explicit list instead.\n",
            "  import sys\n"
          ]
        },
        {
          "output_type": "execute_result",
          "data": {
            "text/plain": [
              "Text(0, 0.5, 'Count')"
            ]
          },
          "metadata": {},
          "execution_count": 83
        },
        {
          "output_type": "display_data",
          "data": {
            "text/plain": [
              "<Figure size 432x288 with 1 Axes>"
            ],
            "image/png": "[encoded data removed]"
          },
          "metadata": {
            "needs_background": "light"
          }
        }
      ]
    },
    {
      "cell_type": "markdown",
      "source": [
        "Findings: LEON is the most listened to artists so Spotify should target more of her songs or at least auto-play LEON songs when a playlists is finished or songs are not queued"
      ],
      "metadata": {
        "id": "LyFelyODsl8i"
      }
    }
  ]
}