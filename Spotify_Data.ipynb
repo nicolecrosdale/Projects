{
  "nbformat": 4,
  "nbformat_minor": 0,
  "metadata": {
    "colab": {
      "name": "Spotify_Data.ipynb",
      "provenance": []
    },
    "kernelspec": {
      "name": "python3",
      "display_name": "Python 3"
    },
    "language_info": {
      "name": "python"
    }
  },
  "cells": [
    {
      "cell_type": "markdown",
      "source": [
        "Spotify Streaming data from March 9th, 2022 - April 23rd, 2022\n"
      ],
      "metadata": {
        "id": "9ptvdHyxfQ7j"
      }
    },
    {
      "cell_type": "code",
      "execution_count": null,
      "metadata": {
        "id": "YBiFY5j3kzXw"
      },
      "outputs": [],
      "source": [
        "import pandas as pd\n",
        "import matplotlib.pyplot as plt\n",
        "import numpy as np\n",
        "import seaborn as sns\n",
        "from datetime import date\n"
      ]
    },
    {
      "cell_type": "markdown",
      "source": [
        "Import Excel data"
      ],
      "metadata": {
        "id": "EfSoxdc8YIJM"
      }
    },
    {
      "cell_type": "code",
      "source": [
        "def load_data(file):                                                    \n",
        "    return pd.read_excel(file, sep = \",\", index_col = False, header=0)\n",
        "songs=pd.read_excel(\"StreamingHistory.xlsx\")"
      ],
      "metadata": {
        "id": "GbfEEnf9a9yZ"
      },
      "execution_count": null,
      "outputs": []
    },
    {
      "cell_type": "markdown",
      "source": [
        "-Analyze raw data to ensure you can account for missing data\n",
        "\n",
        "-Look at the values in each column"
      ],
      "metadata": {
        "id": "-gpOrwZ0aLHd"
      }
    },
    {
      "cell_type": "code",
      "source": [
        "songs.count()"
      ],
      "metadata": {
        "colab": {
          "base_uri": "https://localhost:8080/"
        },
        "id": "EkWc-aMFICm2",
        "outputId": "4a15930a-96d5-44e2-f25b-9af197f2b670"
      },
      "execution_count": null,
      "outputs": [
        {
          "output_type": "execute_result",
          "data": {
            "text/plain": [
              "record              0\n",
              "endTime          2608\n",
              "day              2608\n",
              "wkday            2608\n",
              "time             2608\n",
              "artistName       2608\n",
              "trackName        2608\n",
              "milisecPlayed    2608\n",
              "dtype: int64"
            ]
          },
          "metadata": {},
          "execution_count": 50
        }
      ]
    },
    {
      "cell_type": "markdown",
      "source": [
        "This code tells you have many columns and rows there are in your dataframe"
      ],
      "metadata": {
        "id": "0hbRBlSia1Mb"
      }
    },
    {
      "cell_type": "code",
      "source": [
        "print(songs.shape)"
      ],
      "metadata": {
        "colab": {
          "base_uri": "https://localhost:8080/"
        },
        "id": "I8U-eXYTqFad",
        "outputId": "75298646-6149-49b4-9422-3fc7e1508a28"
      },
      "execution_count": null,
      "outputs": [
        {
          "output_type": "stream",
          "name": "stdout",
          "text": [
            "(2608, 8)\n"
          ]
        }
      ]
    },
    {
      "cell_type": "markdown",
      "source": [
        "\n",
        "\n",
        "```\n",
        "# This is formatted as code\n",
        "```\n",
        "\n",
        "Dropped the 'record' column because they were not useful. It did not have any values in the column"
      ],
      "metadata": {
        "id": "fCUTeJ0liEyz"
      }
    },
    {
      "cell_type": "code",
      "source": [
        "# Remove column name 'record'\n",
        "songs_clean=songs.drop(['record'], axis = 1)"
      ],
      "metadata": {
        "id": "wez_0sq2f_2e"
      },
      "execution_count": null,
      "outputs": []
    },
    {
      "cell_type": "code",
      "source": [
        "print(songs_clean.shape)"
      ],
      "metadata": {
        "colab": {
          "base_uri": "https://localhost:8080/"
        },
        "id": "6NcrxYqXkHW4",
        "outputId": "92e479ea-290a-48b3-c17f-ba092e434346"
      },
      "execution_count": null,
      "outputs": [
        {
          "output_type": "stream",
          "name": "stdout",
          "text": [
            "(2608, 7)\n"
          ]
        }
      ]
    },
    {
      "cell_type": "markdown",
      "source": [
        "Here, I am only concerned with the songs that were listened to for more than 1 minute(>60,0000 miliseconds). I would consider songs that were listened to for less than 1 minute to be skips or the individual did not like the song enough to listen to the whole thing."
      ],
      "metadata": {
        "id": "Su5HskdlizX7"
      }
    },
    {
      "cell_type": "code",
      "source": [
        "#Drop songs that are listened to for less than 60,000 miliseconds\n",
        "songs_filtered = songs_clean[songs_clean['milisecPlayed'] >= 60000]"
      ],
      "metadata": {
        "id": "tGM_NAPeqaiS"
      },
      "execution_count": null,
      "outputs": []
    },
    {
      "cell_type": "code",
      "source": [
        "# Print the new dataframe\n",
        "print(songs_filtered)"
      ],
      "metadata": {
        "colab": {
          "base_uri": "https://localhost:8080/"
        },
        "id": "-72tGd2bgKkC",
        "outputId": "0dc3be87-71ae-4bfb-cc8a-4286120347f3"
      },
      "execution_count": null,
      "outputs": [
        {
          "output_type": "stream",
          "name": "stdout",
          "text": [
            "               endTime         day wkday   time     artistName  \\\n",
            "0     2022-03-09 15:00  2022-03-09   Wed  15:00           LÉON   \n",
            "1     2022-03-09 15:03  2022-03-09   Wed  15:03           LÉON   \n",
            "2     2022-03-09 15:06  2022-03-09   Wed  15:06           LÉON   \n",
            "3     2022-03-09 15:09  2022-03-09   Wed  15:09           LÉON   \n",
            "5     2022-03-10 03:20  2022-03-10   Thu  03:20           LÉON   \n",
            "...                ...         ...   ...    ...            ...   \n",
            "2603  2022-04-23 10:49  2022-04-23   Sat  10:49        JORDANN   \n",
            "2604  2022-04-23 10:52  2022-04-23   Sat  10:52  Lennon Stella   \n",
            "2605  2022-04-23 10:56  2022-04-23   Sat  10:56          BENEE   \n",
            "2606  2022-04-23 11:01  2022-04-23   Sat  11:01        Kimchii   \n",
            "2607  2022-04-23 11:05  2022-04-23   Sat  11:05        Glassio   \n",
            "\n",
            "                            trackName  milisecPlayed  \n",
            "0                    Wishful Thinking         243203  \n",
            "1                              Soaked         212262  \n",
            "2                   Fade Into A Dream         171901  \n",
            "3                       All My Heroes         205953  \n",
            "5                      Look Like That         200715  \n",
            "...                               ...            ...  \n",
            "2603               Business Solutions         220146  \n",
            "2604                  Older Than I Am         181533  \n",
            "2605                           Soaked         240946  \n",
            "2606  When You Feel the Time Is Right         340985  \n",
            "2607   Are You Having Fun Without Me?         224121  \n",
            "\n",
            "[2127 rows x 7 columns]\n"
          ]
        }
      ]
    },
    {
      "cell_type": "code",
      "source": [
        "# Print the shape of the dataframe\n",
        "print(songs_filtered.shape)"
      ],
      "metadata": {
        "colab": {
          "base_uri": "https://localhost:8080/"
        },
        "id": "QmRjdfTYgMKb",
        "outputId": "727b4a3a-d9e2-4f06-dc47-0b0b223859fe"
      },
      "execution_count": null,
      "outputs": [
        {
          "output_type": "stream",
          "name": "stdout",
          "text": [
            "(2127, 7)\n"
          ]
        }
      ]
    },
    {
      "cell_type": "code",
      "source": [
        "# iterating the columns to print the column names\n",
        "for col in songs.columns:\n",
        "    print(col)"
      ],
      "metadata": {
        "colab": {
          "base_uri": "https://localhost:8080/"
        },
        "id": "1-wIl4BJMAAx",
        "outputId": "0a0cc3cd-6e5b-47f6-e9b2-da0888cbad45"
      },
      "execution_count": null,
      "outputs": [
        {
          "output_type": "stream",
          "name": "stdout",
          "text": [
            "record\n",
            "endTime\n",
            "day\n",
            "wkday\n",
            "time\n",
            "artistName\n",
            "trackName\n",
            "milisecPlayed\n"
          ]
        }
      ]
    },
    {
      "cell_type": "markdown",
      "source": [
        "**Goal:** Find what day of the week most songs are streamed"
      ],
      "metadata": {
        "id": "m-7fHGK3lf2e"
      }
    },
    {
      "cell_type": "code",
      "source": [
        "#define days and time music is played\n",
        "df = pd.DataFrame(songs_filtered)\n",
        "  \n",
        "# select columns\n",
        "df[['day','wkday', 'milisecPlayed']]"
      ],
      "metadata": {
        "colab": {
          "base_uri": "https://localhost:8080/",
          "height": 423
        },
        "id": "5TAOJ_oEMvCD",
        "outputId": "aa75121a-03c1-4373-bc52-2762060d11c6"
      },
      "execution_count": null,
      "outputs": [
        {
          "output_type": "execute_result",
          "data": {
            "text/plain": [
              "             day wkday  milisecPlayed\n",
              "0     2022-03-09   Wed         243203\n",
              "1     2022-03-09   Wed         212262\n",
              "2     2022-03-09   Wed         171901\n",
              "3     2022-03-09   Wed         205953\n",
              "5     2022-03-10   Thu         200715\n",
              "...          ...   ...            ...\n",
              "2603  2022-04-23   Sat         220146\n",
              "2604  2022-04-23   Sat         181533\n",
              "2605  2022-04-23   Sat         240946\n",
              "2606  2022-04-23   Sat         340985\n",
              "2607  2022-04-23   Sat         224121\n",
              "\n",
              "[2127 rows x 3 columns]"
            ],
            "text/html": [
              "\n",
              "  <div id=\"df-1fbf0af1-ccd0-4889-b327-a5db0ce6e740\">\n",
              "    <div class=\"colab-df-container\">\n",
              "      <div>\n",
              "<style scoped>\n",
              "    .dataframe tbody tr th:only-of-type {\n",
              "        vertical-align: middle;\n",
              "    }\n",
              "\n",
              "    .dataframe tbody tr th {\n",
              "        vertical-align: top;\n",
              "    }\n",
              "\n",
              "    .dataframe thead th {\n",
              "        text-align: right;\n",
              "    }\n",
              "</style>\n",
              "<table border=\"1\" class=\"dataframe\">\n",
              "  <thead>\n",
              "    <tr style=\"text-align: right;\">\n",
              "      <th></th>\n",
              "      <th>day</th>\n",
              "      <th>wkday</th>\n",
              "      <th>milisecPlayed</th>\n",
              "    </tr>\n",
              "  </thead>\n",
              "  <tbody>\n",
              "    <tr>\n",
              "      <th>0</th>\n",
              "      <td>2022-03-09</td>\n",
              "      <td>Wed</td>\n",
              "      <td>243203</td>\n",
              "    </tr>\n",
              "    <tr>\n",
              "      <th>1</th>\n",
              "      <td>2022-03-09</td>\n",
              "      <td>Wed</td>\n",
              "      <td>212262</td>\n",
              "    </tr>\n",
              "    <tr>\n",
              "      <th>2</th>\n",
              "      <td>2022-03-09</td>\n",
              "      <td>Wed</td>\n",
              "      <td>171901</td>\n",
              "    </tr>\n",
              "    <tr>\n",
              "      <th>3</th>\n",
              "      <td>2022-03-09</td>\n",
              "      <td>Wed</td>\n",
              "      <td>205953</td>\n",
              "    </tr>\n",
              "    <tr>\n",
              "      <th>5</th>\n",
              "      <td>2022-03-10</td>\n",
              "      <td>Thu</td>\n",
              "      <td>200715</td>\n",
              "    </tr>\n",
              "    <tr>\n",
              "      <th>...</th>\n",
              "      <td>...</td>\n",
              "      <td>...</td>\n",
              "      <td>...</td>\n",
              "    </tr>\n",
              "    <tr>\n",
              "      <th>2603</th>\n",
              "      <td>2022-04-23</td>\n",
              "      <td>Sat</td>\n",
              "      <td>220146</td>\n",
              "    </tr>\n",
              "    <tr>\n",
              "      <th>2604</th>\n",
              "      <td>2022-04-23</td>\n",
              "      <td>Sat</td>\n",
              "      <td>181533</td>\n",
              "    </tr>\n",
              "    <tr>\n",
              "      <th>2605</th>\n",
              "      <td>2022-04-23</td>\n",
              "      <td>Sat</td>\n",
              "      <td>240946</td>\n",
              "    </tr>\n",
              "    <tr>\n",
              "      <th>2606</th>\n",
              "      <td>2022-04-23</td>\n",
              "      <td>Sat</td>\n",
              "      <td>340985</td>\n",
              "    </tr>\n",
              "    <tr>\n",
              "      <th>2607</th>\n",
              "      <td>2022-04-23</td>\n",
              "      <td>Sat</td>\n",
              "      <td>224121</td>\n",
              "    </tr>\n",
              "  </tbody>\n",
              "</table>\n",
              "<p>2127 rows × 3 columns</p>\n",
              "</div>\n",
              "      <button class=\"colab-df-convert\" onclick=\"convertToInteractive('df-1fbf0af1-ccd0-4889-b327-a5db0ce6e740')\"\n",
              "              title=\"Convert this dataframe to an interactive table.\"\n",
              "              style=\"display:none;\">\n",
              "        \n",
              "  <svg xmlns=\"http://www.w3.org/2000/svg\" height=\"24px\"viewBox=\"0 0 24 24\"\n",
              "       width=\"24px\">\n",
              "    <path d=\"M0 0h24v24H0V0z\" fill=\"none\"/>\n",
              "    <path d=\"M18.56 5.44l.94 2.06.94-2.06 2.06-.94-2.06-.94-.94-2.06-.94 2.06-2.06.94zm-11 1L8.5 8.5l.94-2.06 2.06-.94-2.06-.94L8.5 2.5l-.94 2.06-2.06.94zm10 10l.94 2.06.94-2.06 2.06-.94-2.06-.94-.94-2.06-.94 2.06-2.06.94z\"/><path d=\"M17.41 7.96l-1.37-1.37c-.4-.4-.92-.59-1.43-.59-.52 0-1.04.2-1.43.59L10.3 9.45l-7.72 7.72c-.78.78-.78 2.05 0 2.83L4 21.41c.39.39.9.59 1.41.59.51 0 1.02-.2 1.41-.59l7.78-7.78 2.81-2.81c.8-.78.8-2.07 0-2.86zM5.41 20L4 18.59l7.72-7.72 1.47 1.35L5.41 20z\"/>\n",
              "  </svg>\n",
              "      </button>\n",
              "      \n",
              "  <style>\n",
              "    .colab-df-container {\n",
              "      display:flex;\n",
              "      flex-wrap:wrap;\n",
              "      gap: 12px;\n",
              "    }\n",
              "\n",
              "    .colab-df-convert {\n",
              "      background-color: #E8F0FE;\n",
              "      border: none;\n",
              "      border-radius: 50%;\n",
              "      cursor: pointer;\n",
              "      display: none;\n",
              "      fill: #1967D2;\n",
              "      height: 32px;\n",
              "      padding: 0 0 0 0;\n",
              "      width: 32px;\n",
              "    }\n",
              "\n",
              "    .colab-df-convert:hover {\n",
              "      background-color: #E2EBFA;\n",
              "      box-shadow: 0px 1px 2px rgba(60, 64, 67, 0.3), 0px 1px 3px 1px rgba(60, 64, 67, 0.15);\n",
              "      fill: #174EA6;\n",
              "    }\n",
              "\n",
              "    [theme=dark] .colab-df-convert {\n",
              "      background-color: #3B4455;\n",
              "      fill: #D2E3FC;\n",
              "    }\n",
              "\n",
              "    [theme=dark] .colab-df-convert:hover {\n",
              "      background-color: #434B5C;\n",
              "      box-shadow: 0px 1px 3px 1px rgba(0, 0, 0, 0.15);\n",
              "      filter: drop-shadow(0px 1px 2px rgba(0, 0, 0, 0.3));\n",
              "      fill: #FFFFFF;\n",
              "    }\n",
              "  </style>\n",
              "\n",
              "      <script>\n",
              "        const buttonEl =\n",
              "          document.querySelector('#df-1fbf0af1-ccd0-4889-b327-a5db0ce6e740 button.colab-df-convert');\n",
              "        buttonEl.style.display =\n",
              "          google.colab.kernel.accessAllowed ? 'block' : 'none';\n",
              "\n",
              "        async function convertToInteractive(key) {\n",
              "          const element = document.querySelector('#df-1fbf0af1-ccd0-4889-b327-a5db0ce6e740');\n",
              "          const dataTable =\n",
              "            await google.colab.kernel.invokeFunction('convertToInteractive',\n",
              "                                                     [key], {});\n",
              "          if (!dataTable) return;\n",
              "\n",
              "          const docLinkHtml = 'Like what you see? Visit the ' +\n",
              "            '<a target=\"_blank\" href=https://colab.research.google.com/notebooks/data_table.ipynb>data table notebook</a>'\n",
              "            + ' to learn more about interactive tables.';\n",
              "          element.innerHTML = '';\n",
              "          dataTable['output_type'] = 'display_data';\n",
              "          await google.colab.output.renderOutput(dataTable, element);\n",
              "          const docLink = document.createElement('div');\n",
              "          docLink.innerHTML = docLinkHtml;\n",
              "          element.appendChild(docLink);\n",
              "        }\n",
              "      </script>\n",
              "    </div>\n",
              "  </div>\n",
              "  "
            ]
          },
          "metadata": {},
          "execution_count": 58
        }
      ]
    },
    {
      "cell_type": "code",
      "source": [
        "#Adding up the values that are played on Monday\n",
        "\n",
        "monday=df.loc[df['wkday'] =='Mon','milisecPlayed'].sum()\n",
        "mondaysongs=monday/60000\n",
        "mondaysongs"
      ],
      "metadata": {
        "colab": {
          "base_uri": "https://localhost:8080/"
        },
        "id": "KnDmkmnYe_0p",
        "outputId": "6e9aca04-9877-4c42-cad1-8f387eb765fe"
      },
      "execution_count": null,
      "outputs": [
        {
          "output_type": "execute_result",
          "data": {
            "text/plain": [
              "1304.7198666666666"
            ]
          },
          "metadata": {},
          "execution_count": 59
        }
      ]
    },
    {
      "cell_type": "code",
      "source": [
        "#Adding up the values that are played on Tuesday\n",
        "\n",
        "tuesday=df.loc[df['wkday'] =='Tue','milisecPlayed'].sum()\n",
        "tuesdaysongs=tuesday/60000\n",
        "tuesdaysongs"
      ],
      "metadata": {
        "colab": {
          "base_uri": "https://localhost:8080/"
        },
        "id": "ZkxVdBBee_pa",
        "outputId": "6ee11b68-df06-4653-ef4d-4407fb733ff0"
      },
      "execution_count": null,
      "outputs": [
        {
          "output_type": "execute_result",
          "data": {
            "text/plain": [
              "852.7872333333333"
            ]
          },
          "metadata": {},
          "execution_count": 60
        }
      ]
    },
    {
      "cell_type": "code",
      "source": [
        "#Adding up the values that are played on Wednesday\n",
        "\n",
        "wednesday=df.loc[df['wkday'] =='Wed','milisecPlayed'].sum()\n",
        "wednesdaysongs=wednesday/60000\n",
        "wednesdaysongs"
      ],
      "metadata": {
        "colab": {
          "base_uri": "https://localhost:8080/"
        },
        "id": "EIYFFLupe_al",
        "outputId": "ee049f4f-2b40-4d93-cde5-a28b5405e59f"
      },
      "execution_count": null,
      "outputs": [
        {
          "output_type": "execute_result",
          "data": {
            "text/plain": [
              "709.7929666666666"
            ]
          },
          "metadata": {},
          "execution_count": 61
        }
      ]
    },
    {
      "cell_type": "code",
      "source": [
        "#Adding up the values that are played on Thursday\n",
        "\n",
        "thursday=df.loc[df['wkday'] =='Thu','milisecPlayed'].sum()\n",
        "thursdaysongs=thursday/60000\n",
        "thursdaysongs"
      ],
      "metadata": {
        "colab": {
          "base_uri": "https://localhost:8080/"
        },
        "id": "7esRB6c9e-hS",
        "outputId": "e9b03fef-4d2c-474f-eaa4-a815b1847c6c"
      },
      "execution_count": null,
      "outputs": [
        {
          "output_type": "execute_result",
          "data": {
            "text/plain": [
              "870.2789833333334"
            ]
          },
          "metadata": {},
          "execution_count": 62
        }
      ]
    },
    {
      "cell_type": "code",
      "source": [
        "#Adding up the values that are played on Friday\n",
        "\n",
        "friday=df.loc[df['wkday'] =='Fri','milisecPlayed'].sum()\n",
        "fridaysongs=friday/60000\n",
        "fridaysongs"
      ],
      "metadata": {
        "colab": {
          "base_uri": "https://localhost:8080/"
        },
        "id": "byKoxx8Oe-Ji",
        "outputId": "d91af1a6-3189-4cd1-e0d1-2ddc17c7737e"
      },
      "execution_count": null,
      "outputs": [
        {
          "output_type": "execute_result",
          "data": {
            "text/plain": [
              "1582.42215"
            ]
          },
          "metadata": {},
          "execution_count": 63
        }
      ]
    },
    {
      "cell_type": "code",
      "source": [
        "#Adding up the values that are played on Saturday\n",
        "\n",
        "saturday=df.loc[df['wkday'] =='Sat','milisecPlayed'].sum()\n",
        "saturdaysongs=saturday/60000\n",
        "saturdaysongs"
      ],
      "metadata": {
        "colab": {
          "base_uri": "https://localhost:8080/"
        },
        "id": "XLHGEKoke90w",
        "outputId": "be3dad30-54c3-4736-bdc1-d605355b99e8"
      },
      "execution_count": null,
      "outputs": [
        {
          "output_type": "execute_result",
          "data": {
            "text/plain": [
              "1384.6175833333334"
            ]
          },
          "metadata": {},
          "execution_count": 64
        }
      ]
    },
    {
      "cell_type": "code",
      "source": [
        "#Adding up the values that are played on Sunday\n",
        "\n",
        "sunday=df.loc[df['wkday'] =='Sun','milisecPlayed'].sum()\n",
        "sundaysongs=sunday/60000\n",
        "sundaysongs"
      ],
      "metadata": {
        "colab": {
          "base_uri": "https://localhost:8080/"
        },
        "id": "RcaCMufueZoU",
        "outputId": "c9429c79-3201-4c29-93e9-12f9e5ef4cf9"
      },
      "execution_count": null,
      "outputs": [
        {
          "output_type": "execute_result",
          "data": {
            "text/plain": [
              "1038.0428833333333"
            ]
          },
          "metadata": {},
          "execution_count": 65
        }
      ]
    },
    {
      "cell_type": "code",
      "source": [
        "# Creating the graph to display Weekdays and minutes listened\n",
        "\n",
        "day = ['Mon','Tue','Wed','Thu','Fri','Sat','Sun']\n",
        "min_listened = [1304.7198666666666,852.7872333333333,709.7929666666666,\n",
        "                870.2789833333334,1582.42215,1384.6175833333334,\n",
        "                1038.0428833333333]\n",
        "plt.plot(day, min_listened, color='Green')\n",
        "plt.scatter(day, min_listened, color='Black')\n",
        "plt.xlabel('Day')\n",
        "plt.ylabel('Minutes Listened')\n",
        "plt.title('Total Minutes Listened per Day')\n",
        "plt.show()"
      ],
      "metadata": {
        "colab": {
          "base_uri": "https://localhost:8080/",
          "height": 295
        },
        "id": "iGR62JY9joMM",
        "outputId": "c7e3d8f3-6fab-4af4-d4e9-ccbb9174b128"
      },
      "execution_count": null,
      "outputs": [
        {
          "output_type": "display_data",
          "data": {
            "text/plain": [
              "<Figure size 432x288 with 1 Axes>"
            ],
            "image/png": "[encoded data removed]"
          },
          "metadata": {
            "needs_background": "light"
          }
        }
      ]
    },
    {
      "cell_type": "markdown",
      "source": [
        "Findings: Here we can see that the user listened to music the most on Friday and the least on Wednesdays. With this information, this user should have more new music ads on Friday because the user is more likely to see it! If Spotify wants to encourage the user to use the app more during the lower listened to days, they should auto play more 'low-fi' or 'chill' music. This user seems to be busier Tuesday, Wednesday and Thursday so they may not want over-baring music when they are focused."
      ],
      "metadata": {
        "id": "JrCbzXbDqR3L"
      }
    },
    {
      "cell_type": "markdown",
      "source": [
        "**Goal**: Find top 10 most streamed song "
      ],
      "metadata": {
        "id": "mVqE8kFsTgmb"
      }
    },
    {
      "cell_type": "code",
      "source": [
        "# Assign a variable to number of times each track name appears in the dataframe\n",
        "trackName=pd.value_counts(songs_filtered['trackName'])\n",
        "print(trackName)"
      ],
      "metadata": {
        "colab": {
          "base_uri": "https://localhost:8080/"
        },
        "id": "T8f2kHacTry_",
        "outputId": "50d78e04-fd2a-4925-a9c9-2bc1ebe6ab5c"
      },
      "execution_count": null,
      "outputs": [
        {
          "output_type": "stream",
          "name": "stdout",
          "text": [
            "muse                                            42\n",
            "Love Me Like I Am                               38\n",
            "Look Like That                                  35\n",
            "scorton's creek - re-imagined by filous         33\n",
            "Big Energy                                      31\n",
            "                                                ..\n",
            "Situations                                       1\n",
            "Upside Down                                      1\n",
            "I Can't Help Myself (Sugar Pie, Honey Bunch)     1\n",
            "Remedy                                           1\n",
            "Are You Having Fun Without Me?                   1\n",
            "Name: trackName, Length: 909, dtype: int64\n"
          ]
        }
      ]
    },
    {
      "cell_type": "code",
      "source": [
        "#Display the first 10 tracks in the trackName variable\n",
        "top10=trackName.head(10)\n",
        "print(top10)"
      ],
      "metadata": {
        "colab": {
          "base_uri": "https://localhost:8080/"
        },
        "id": "2EM2W4cpXfGU",
        "outputId": "87270090-5d9d-44f8-c144-d869e7b26a2f"
      },
      "execution_count": null,
      "outputs": [
        {
          "output_type": "stream",
          "name": "stdout",
          "text": [
            "muse                                       42\n",
            "Love Me Like I Am                          38\n",
            "Look Like That                             35\n",
            "scorton's creek - re-imagined by filous    33\n",
            "Big Energy                                 31\n",
            "All My Heroes                              28\n",
            "Soaked                                     26\n",
            "Lift You Up                                26\n",
            "N/S                                        22\n",
            "Less Than Zero                             22\n",
            "Name: trackName, dtype: int64\n"
          ]
        }
      ]
    },
    {
      "cell_type": "code",
      "source": [
        "# Create a bar graph showing top 10 played song names and the number they were streamed\n",
        "trackName = ['muse','Love Me Like I Am','Look Like That','scorton\\'s creek re-imagined',\n",
        "             'Big Energy','All My Heroes','Soaked','Lift You Up','N/S','Less Than Zero'] \n",
        "Count=[42,38,35,33,31,28,26,26,22,22]\n",
        "plt.bar(trackName,Count)  \n",
        "plt.xticks(rotation=45, ha='right')\n",
        "figsize=(20,20)\n",
        "plt.title('Top Ten Streamed to Songs')\n",
        "plt.ylabel('Count')"
      ],
      "metadata": {
        "colab": {
          "base_uri": "https://localhost:8080/",
          "height": 396
        },
        "id": "3V-GgYERWhaW",
        "outputId": "c14f5eb2-553b-4656-8cc9-a2f4804f62a0"
      },
      "execution_count": null,
      "outputs": [
        {
          "output_type": "execute_result",
          "data": {
            "text/plain": [
              "Text(0, 0.5, 'Count')"
            ]
          },
          "metadata": {},
          "execution_count": 69
        },
        {
          "output_type": "display_data",
          "data": {
            "text/plain": [
              "<Figure size 432x288 with 1 Axes>"
            ],
            "image/png": "[encoded data removed]"
          },
          "metadata": {
            "needs_background": "light"
          }
        }
      ]
    },
    {
      "cell_type": "markdown",
      "source": [
        "Findings: Most listened to song is 'muse' \n",
        "\n",
        "Interpretation: Spotify should target music that is in the same genre or artist for this user"
      ],
      "metadata": {
        "id": "IvYuj3lYsJ_9"
      }
    },
    {
      "cell_type": "markdown",
      "source": [
        "**Goal:** Find the top 20 most streamed artist"
      ],
      "metadata": {
        "id": "ikKoUB24Tj4F"
      }
    },
    {
      "cell_type": "code",
      "source": [
        "#Assign a variable to artists and count the times they were streamed \n",
        "Artists=pd.value_counts(songs_filtered['artistName'])\n",
        "print(Artists)"
      ],
      "metadata": {
        "colab": {
          "base_uri": "https://localhost:8080/"
        },
        "id": "dDQ6eH49TssC",
        "outputId": "080b18b4-3d16-4701-c9cf-0dce5e274a89"
      },
      "execution_count": null,
      "outputs": [
        {
          "output_type": "stream",
          "name": "stdout",
          "text": [
            "LÉON                      246\n",
            "Florence + The Machine    130\n",
            "for KING & COUNTRY         81\n",
            "Tim Atlas                  61\n",
            "MisterWives                45\n",
            "                         ... \n",
            "Wrabel                      1\n",
            "Bruno Major                 1\n",
            "Wild Rivers                 1\n",
            "James Bay                   1\n",
            "Kimchii                     1\n",
            "Name: artistName, Length: 394, dtype: int64\n"
          ]
        }
      ]
    },
    {
      "cell_type": "code",
      "source": [
        "#Print the top 20 artists streamed \n",
        "Artists.head(20)"
      ],
      "metadata": {
        "colab": {
          "base_uri": "https://localhost:8080/"
        },
        "id": "wP7csIlYf-Rn",
        "outputId": "a8407568-b885-4e1c-b175-a1ac894cbf4e"
      },
      "execution_count": null,
      "outputs": [
        {
          "output_type": "execute_result",
          "data": {
            "text/plain": [
              "LÉON                      246\n",
              "Florence + The Machine    130\n",
              "for KING & COUNTRY         81\n",
              "Tim Atlas                  61\n",
              "MisterWives                45\n",
              "Ariana Grande              39\n",
              "The Weeknd                 39\n",
              "COIN                       38\n",
              "Isaac Dunbar               35\n",
              "Latto                      32\n",
              "Ellie Goulding             28\n",
              "John Mayer                 27\n",
              "Thomas Newman              26\n",
              "Justin Timberlake          26\n",
              "Lana Del Rey               24\n",
              "Litany                     23\n",
              "Stray Kids                 22\n",
              "Bad Suns                   22\n",
              "Post Malone                22\n",
              "The Morning Toast          20\n",
              "Name: artistName, dtype: int64"
            ]
          },
          "metadata": {},
          "execution_count": 71
        }
      ]
    },
    {
      "cell_type": "code",
      "source": [
        "#Create a horizontal bar graph displaying streams associated with artists\n",
        "\n",
        "artistsName = ['for KING & COUNTRY','Stray Kids',\n",
        "'The Weeknd','Isaac Dunbar','Latto','Ariana Grande',\n",
        "'Ellie Goulding','John Mayer','LÉON','Justin Timberlake',\n",
        "'Litany','Tim Atlas','Thomas Newman','MisterWives','Bad Suns','COIN',\n",
        "'Post Malone','Florence + The Machine','Lana Del Rey','The Morning Toast'] \n",
        "Count=[81,22, 39,35,32,39,28,27,246,26,23,61,26,45,22,38,22,130,24,20]\n",
        "plt.barh(artistsName, Count, color='kkkkkkkkgkkkkkkkkkkkk')\n",
        "figsize=(20,20)\n",
        "plt.xticks(ha='right')\n",
        "plt.title('Mar.9-Apr.23,2022 | Top 20 | Streamed Artists')\n",
        "plt.ylabel('Count')"
      ],
      "metadata": {
        "colab": {
          "base_uri": "https://localhost:8080/",
          "height": 357
        },
        "id": "YWPfiGmXgIHY",
        "outputId": "d6b524bd-1909-4d30-a48b-fdff5194f658"
      },
      "execution_count": null,
      "outputs": [
        {
          "output_type": "stream",
          "name": "stderr",
          "text": [
            "/usr/local/lib/python3.7/dist-packages/ipykernel_launcher.py:9: MatplotlibDeprecationWarning: Using a string of single character colors as a color sequence is deprecated. Use an explicit list instead.\n",
            "  if __name__ == '__main__':\n"
          ]
        },
        {
          "output_type": "execute_result",
          "data": {
            "text/plain": [
              "Text(0, 0.5, 'Count')"
            ]
          },
          "metadata": {},
          "execution_count": 72
        },
        {
          "output_type": "display_data",
          "data": {
            "text/plain": [
              "<Figure size 432x288 with 1 Axes>"
            ],
            "image/png": "[encoded data removed]"
          },
          "metadata": {
            "needs_background": "light"
          }
        }
      ]
    },
    {
      "cell_type": "markdown",
      "source": [
        "Findings: LEON is the most listened to artists \n",
        "Interpretation: Spotify should target more of her songs or at least auto-play LEON songs when a playlists is finished or songs are not queued"
      ],
      "metadata": {
        "id": "LyFelyODsl8i"
      }
    },
    {
      "cell_type": "markdown",
      "source": [
        "----------------------------------------------------------"
      ],
      "metadata": {
        "id": "kJR7lkA78qSd"
      }
    },
    {
      "cell_type": "markdown",
      "source": [
        "**Goal:** Find how many songs are on each playlists"
      ],
      "metadata": {
        "id": "uyKTwWhXXHMF"
      }
    },
    {
      "cell_type": "markdown",
      "source": [
        "Import Playlist data"
      ],
      "metadata": {
        "id": "2GycnVZmrck9"
      }
    },
    {
      "cell_type": "code",
      "source": [
        "def load_data(file):                                                    \n",
        "    return pd.read_csv(file, sep = \",\", index_col = False, header=0)\n",
        "playlists=pd.read_excel(\"Playlist1.xlsx\")"
      ],
      "metadata": {
        "id": "PhTY5qxMXqxb"
      },
      "execution_count": null,
      "outputs": []
    },
    {
      "cell_type": "code",
      "source": [
        "#Values in each columns of the dataset\n",
        "#Data set name is playlists and there is a 'playlists' column\n",
        "playlists.count()"
      ],
      "metadata": {
        "colab": {
          "base_uri": "https://localhost:8080/"
        },
        "id": "1nXaP36Ei4fp",
        "outputId": "4e41acaf-47ba-48c0-a4b7-07d228764f3f"
      },
      "execution_count": null,
      "outputs": [
        {
          "output_type": "execute_result",
          "data": {
            "text/plain": [
              "playlists              0\n",
              "name                  23\n",
              "lastModifiedDate      23\n",
              "items                  0\n",
              "track                  0\n",
              "trackName            513\n",
              "artistName           513\n",
              "albumName            513\n",
              "trackUri             513\n",
              "episode                0\n",
              "localTrack             0\n",
              "description            0\n",
              "numberOfFollowers     23\n",
              "dtype: int64"
            ]
          },
          "metadata": {},
          "execution_count": 74
        }
      ]
    },
    {
      "cell_type": "code",
      "source": [
        "#cleaning the data by removing columns that do not help with the goal\n",
        "playlists_clean=playlists.drop(['playlists','items','track','episode','trackUri','localTrack','description','numberOfFollowers'], axis = 1)\n",
        "playlists_clean.count()"
      ],
      "metadata": {
        "colab": {
          "base_uri": "https://localhost:8080/"
        },
        "id": "5F0a916did5V",
        "outputId": "ac9e30f2-9402-42f6-f625-fab38cdee2ad"
      },
      "execution_count": null,
      "outputs": [
        {
          "output_type": "execute_result",
          "data": {
            "text/plain": [
              "name                 23\n",
              "lastModifiedDate     23\n",
              "trackName           513\n",
              "artistName          513\n",
              "albumName           513\n",
              "dtype: int64"
            ]
          },
          "metadata": {},
          "execution_count": 75
        }
      ]
    },
    {
      "cell_type": "code",
      "source": [
        "#Listing column names that are still in the dataframe\n",
        "for col in playlists_clean.columns:\n",
        "    print(col)"
      ],
      "metadata": {
        "colab": {
          "base_uri": "https://localhost:8080/"
        },
        "id": "FPNA1iCqjiZ2",
        "outputId": "3a789878-7cd9-4658-fb52-5836216d883d"
      },
      "execution_count": null,
      "outputs": [
        {
          "output_type": "stream",
          "name": "stdout",
          "text": [
            "name\n",
            "lastModifiedDate\n",
            "trackName\n",
            "artistName\n",
            "albumName\n"
          ]
        }
      ]
    },
    {
      "cell_type": "code",
      "source": [
        "# create a variable and delete columns with NaN(empty) values\n",
        "#Defining a variable to the dataframe that will look at the dates each playlists was made\n",
        "playlists_date=playlists_clean.dropna()\n",
        "playlists_date"
      ],
      "metadata": {
        "colab": {
          "base_uri": "https://localhost:8080/",
          "height": 814
        },
        "id": "aTePhVOZwIyY",
        "outputId": "905af2ec-d89a-4c01-9e11-9583e4fa15b2"
      },
      "execution_count": null,
      "outputs": [
        {
          "output_type": "execute_result",
          "data": {
            "text/plain": [
              "                      name lastModifiedDate  \\\n",
              "0                  UF Mems       2022-04-11   \n",
              "3        Draft Pretty Boys       2021-12-18   \n",
              "34               One Magic       2021-11-23   \n",
              "40              Sea leaves       2021-08-04   \n",
              "44         Girls Night Out       2021-07-08   \n",
              "49                21 Party       2021-11-17   \n",
              "55                   Happy       2021-11-11   \n",
              "68      Chill car playlist       2021-06-08   \n",
              "83               Chillaxin       2020-10-20   \n",
              "104          Hide and Seek       2020-09-14   \n",
              "109       Soft Cream Beats       2021-02-12   \n",
              "121             Pop Lovin'       2020-05-18   \n",
              "127             Groovy Gal       2021-08-12   \n",
              "139               Nice Day       2020-12-28   \n",
              "189  Disney's Poppin Tunes       2019-12-17   \n",
              "203  Dark side of the moon       2021-04-09   \n",
              "224                   1901       2021-06-08   \n",
              "269            Work it out       2022-01-29   \n",
              "289     Lord, I need you!!       2020-10-07   \n",
              "300       Liked from Radio       2019-12-28   \n",
              "333              Love City       2021-05-06   \n",
              "352          Nicole's Hits       2020-12-11   \n",
              "383             Background       2021-10-02   \n",
              "\n",
              "                               trackName           artistName  \\\n",
              "0                                   Talk               Khalid   \n",
              "3                           Close To You              Dayglow   \n",
              "34                              Evermore          Dan Stevens   \n",
              "40                         Laurel Leaves       Modern Aquatic   \n",
              "44                          Fergalicious               Fergie   \n",
              "49   I Took A Pill In Ibiza - Seeb Remix          Mike Posner   \n",
              "55                            Lovely Day         Bill Withers   \n",
              "68            Moving On and Getting Over           John Mayer   \n",
              "83                           Imagination    Foster The People   \n",
              "104                        Hide and Seek          Imogen Heap   \n",
              "109                           Soft Cream                 MYSM   \n",
              "121                               Sexual               NEIKED   \n",
              "127                      Cigarette Satin           Emmett Kai   \n",
              "139                          Comparisons            Driveaway   \n",
              "189                You'll Be In My Heart         Phil Collins   \n",
              "203                       Futile Devices       Sufjan Stevens   \n",
              "224                                 1901              Phoenix   \n",
              "269                            On A Roll             Ashley O   \n",
              "289                       Death Of Death  Life.Church Worship   \n",
              "300                        Comfort Crowd           Conan Gray   \n",
              "333                  Haven't Met You Yet        Michael Bublé   \n",
              "352                                Apple       Julia Michaels   \n",
              "383                     Love Death Birth       Carter Burwell   \n",
              "\n",
              "                                     albumName  \n",
              "0                                         Talk  \n",
              "3                                 Close To You  \n",
              "34                        Beauty and the Beast  \n",
              "40                               Laurel Leaves  \n",
              "44                                The Dutchess  \n",
              "49                            At Night, Alone.  \n",
              "55                                   Menagerie  \n",
              "68                   The Search for Everything  \n",
              "83                                 Imagination  \n",
              "104                         Speak for Yourself  \n",
              "109                                 Soft Cream  \n",
              "121                                     Sexual  \n",
              "127                                 Baby Hits!  \n",
              "139                                Comparisons  \n",
              "189                                     Tarzan  \n",
              "203                             The Age of Adz  \n",
              "224                   Wolfgang Amadeus Phoenix  \n",
              "269                                  On A Roll  \n",
              "289                             Death Of Death  \n",
              "300                              Comfort Crowd  \n",
              "333                                 Crazy Love  \n",
              "352                     Inner Monologue Part 1  \n",
              "383  The Twilight Saga: Breaking Dawn - Part 1  "
            ],
            "text/html": [
              "\n",
              "  <div id=\"df-98bf7e76-5df8-4f5a-9cf6-26bbc33b61e9\">\n",
              "    <div class=\"colab-df-container\">\n",
              "      <div>\n",
              "<style scoped>\n",
              "    .dataframe tbody tr th:only-of-type {\n",
              "        vertical-align: middle;\n",
              "    }\n",
              "\n",
              "    .dataframe tbody tr th {\n",
              "        vertical-align: top;\n",
              "    }\n",
              "\n",
              "    .dataframe thead th {\n",
              "        text-align: right;\n",
              "    }\n",
              "</style>\n",
              "<table border=\"1\" class=\"dataframe\">\n",
              "  <thead>\n",
              "    <tr style=\"text-align: right;\">\n",
              "      <th></th>\n",
              "      <th>name</th>\n",
              "      <th>lastModifiedDate</th>\n",
              "      <th>trackName</th>\n",
              "      <th>artistName</th>\n",
              "      <th>albumName</th>\n",
              "    </tr>\n",
              "  </thead>\n",
              "  <tbody>\n",
              "    <tr>\n",
              "      <th>0</th>\n",
              "      <td>UF Mems</td>\n",
              "      <td>2022-04-11</td>\n",
              "      <td>Talk</td>\n",
              "      <td>Khalid</td>\n",
              "      <td>Talk</td>\n",
              "    </tr>\n",
              "    <tr>\n",
              "      <th>3</th>\n",
              "      <td>Draft Pretty Boys</td>\n",
              "      <td>2021-12-18</td>\n",
              "      <td>Close To You</td>\n",
              "      <td>Dayglow</td>\n",
              "      <td>Close To You</td>\n",
              "    </tr>\n",
              "    <tr>\n",
              "      <th>34</th>\n",
              "      <td>One Magic</td>\n",
              "      <td>2021-11-23</td>\n",
              "      <td>Evermore</td>\n",
              "      <td>Dan Stevens</td>\n",
              "      <td>Beauty and the Beast</td>\n",
              "    </tr>\n",
              "    <tr>\n",
              "      <th>40</th>\n",
              "      <td>Sea leaves</td>\n",
              "      <td>2021-08-04</td>\n",
              "      <td>Laurel Leaves</td>\n",
              "      <td>Modern Aquatic</td>\n",
              "      <td>Laurel Leaves</td>\n",
              "    </tr>\n",
              "    <tr>\n",
              "      <th>44</th>\n",
              "      <td>Girls Night Out</td>\n",
              "      <td>2021-07-08</td>\n",
              "      <td>Fergalicious</td>\n",
              "      <td>Fergie</td>\n",
              "      <td>The Dutchess</td>\n",
              "    </tr>\n",
              "    <tr>\n",
              "      <th>49</th>\n",
              "      <td>21 Party</td>\n",
              "      <td>2021-11-17</td>\n",
              "      <td>I Took A Pill In Ibiza - Seeb Remix</td>\n",
              "      <td>Mike Posner</td>\n",
              "      <td>At Night, Alone.</td>\n",
              "    </tr>\n",
              "    <tr>\n",
              "      <th>55</th>\n",
              "      <td>Happy</td>\n",
              "      <td>2021-11-11</td>\n",
              "      <td>Lovely Day</td>\n",
              "      <td>Bill Withers</td>\n",
              "      <td>Menagerie</td>\n",
              "    </tr>\n",
              "    <tr>\n",
              "      <th>68</th>\n",
              "      <td>Chill car playlist</td>\n",
              "      <td>2021-06-08</td>\n",
              "      <td>Moving On and Getting Over</td>\n",
              "      <td>John Mayer</td>\n",
              "      <td>The Search for Everything</td>\n",
              "    </tr>\n",
              "    <tr>\n",
              "      <th>83</th>\n",
              "      <td>Chillaxin</td>\n",
              "      <td>2020-10-20</td>\n",
              "      <td>Imagination</td>\n",
              "      <td>Foster The People</td>\n",
              "      <td>Imagination</td>\n",
              "    </tr>\n",
              "    <tr>\n",
              "      <th>104</th>\n",
              "      <td>Hide and Seek</td>\n",
              "      <td>2020-09-14</td>\n",
              "      <td>Hide and Seek</td>\n",
              "      <td>Imogen Heap</td>\n",
              "      <td>Speak for Yourself</td>\n",
              "    </tr>\n",
              "    <tr>\n",
              "      <th>109</th>\n",
              "      <td>Soft Cream Beats</td>\n",
              "      <td>2021-02-12</td>\n",
              "      <td>Soft Cream</td>\n",
              "      <td>MYSM</td>\n",
              "      <td>Soft Cream</td>\n",
              "    </tr>\n",
              "    <tr>\n",
              "      <th>121</th>\n",
              "      <td>Pop Lovin'</td>\n",
              "      <td>2020-05-18</td>\n",
              "      <td>Sexual</td>\n",
              "      <td>NEIKED</td>\n",
              "      <td>Sexual</td>\n",
              "    </tr>\n",
              "    <tr>\n",
              "      <th>127</th>\n",
              "      <td>Groovy Gal</td>\n",
              "      <td>2021-08-12</td>\n",
              "      <td>Cigarette Satin</td>\n",
              "      <td>Emmett Kai</td>\n",
              "      <td>Baby Hits!</td>\n",
              "    </tr>\n",
              "    <tr>\n",
              "      <th>139</th>\n",
              "      <td>Nice Day</td>\n",
              "      <td>2020-12-28</td>\n",
              "      <td>Comparisons</td>\n",
              "      <td>Driveaway</td>\n",
              "      <td>Comparisons</td>\n",
              "    </tr>\n",
              "    <tr>\n",
              "      <th>189</th>\n",
              "      <td>Disney's Poppin Tunes</td>\n",
              "      <td>2019-12-17</td>\n",
              "      <td>You'll Be In My Heart</td>\n",
              "      <td>Phil Collins</td>\n",
              "      <td>Tarzan</td>\n",
              "    </tr>\n",
              "    <tr>\n",
              "      <th>203</th>\n",
              "      <td>Dark side of the moon</td>\n",
              "      <td>2021-04-09</td>\n",
              "      <td>Futile Devices</td>\n",
              "      <td>Sufjan Stevens</td>\n",
              "      <td>The Age of Adz</td>\n",
              "    </tr>\n",
              "    <tr>\n",
              "      <th>224</th>\n",
              "      <td>1901</td>\n",
              "      <td>2021-06-08</td>\n",
              "      <td>1901</td>\n",
              "      <td>Phoenix</td>\n",
              "      <td>Wolfgang Amadeus Phoenix</td>\n",
              "    </tr>\n",
              "    <tr>\n",
              "      <th>269</th>\n",
              "      <td>Work it out</td>\n",
              "      <td>2022-01-29</td>\n",
              "      <td>On A Roll</td>\n",
              "      <td>Ashley O</td>\n",
              "      <td>On A Roll</td>\n",
              "    </tr>\n",
              "    <tr>\n",
              "      <th>289</th>\n",
              "      <td>Lord, I need you!!</td>\n",
              "      <td>2020-10-07</td>\n",
              "      <td>Death Of Death</td>\n",
              "      <td>Life.Church Worship</td>\n",
              "      <td>Death Of Death</td>\n",
              "    </tr>\n",
              "    <tr>\n",
              "      <th>300</th>\n",
              "      <td>Liked from Radio</td>\n",
              "      <td>2019-12-28</td>\n",
              "      <td>Comfort Crowd</td>\n",
              "      <td>Conan Gray</td>\n",
              "      <td>Comfort Crowd</td>\n",
              "    </tr>\n",
              "    <tr>\n",
              "      <th>333</th>\n",
              "      <td>Love City</td>\n",
              "      <td>2021-05-06</td>\n",
              "      <td>Haven't Met You Yet</td>\n",
              "      <td>Michael Bublé</td>\n",
              "      <td>Crazy Love</td>\n",
              "    </tr>\n",
              "    <tr>\n",
              "      <th>352</th>\n",
              "      <td>Nicole's Hits</td>\n",
              "      <td>2020-12-11</td>\n",
              "      <td>Apple</td>\n",
              "      <td>Julia Michaels</td>\n",
              "      <td>Inner Monologue Part 1</td>\n",
              "    </tr>\n",
              "    <tr>\n",
              "      <th>383</th>\n",
              "      <td>Background</td>\n",
              "      <td>2021-10-02</td>\n",
              "      <td>Love Death Birth</td>\n",
              "      <td>Carter Burwell</td>\n",
              "      <td>The Twilight Saga: Breaking Dawn - Part 1</td>\n",
              "    </tr>\n",
              "  </tbody>\n",
              "</table>\n",
              "</div>\n",
              "      <button class=\"colab-df-convert\" onclick=\"convertToInteractive('df-98bf7e76-5df8-4f5a-9cf6-26bbc33b61e9')\"\n",
              "              title=\"Convert this dataframe to an interactive table.\"\n",
              "              style=\"display:none;\">\n",
              "        \n",
              "  <svg xmlns=\"http://www.w3.org/2000/svg\" height=\"24px\"viewBox=\"0 0 24 24\"\n",
              "       width=\"24px\">\n",
              "    <path d=\"M0 0h24v24H0V0z\" fill=\"none\"/>\n",
              "    <path d=\"M18.56 5.44l.94 2.06.94-2.06 2.06-.94-2.06-.94-.94-2.06-.94 2.06-2.06.94zm-11 1L8.5 8.5l.94-2.06 2.06-.94-2.06-.94L8.5 2.5l-.94 2.06-2.06.94zm10 10l.94 2.06.94-2.06 2.06-.94-2.06-.94-.94-2.06-.94 2.06-2.06.94z\"/><path d=\"M17.41 7.96l-1.37-1.37c-.4-.4-.92-.59-1.43-.59-.52 0-1.04.2-1.43.59L10.3 9.45l-7.72 7.72c-.78.78-.78 2.05 0 2.83L4 21.41c.39.39.9.59 1.41.59.51 0 1.02-.2 1.41-.59l7.78-7.78 2.81-2.81c.8-.78.8-2.07 0-2.86zM5.41 20L4 18.59l7.72-7.72 1.47 1.35L5.41 20z\"/>\n",
              "  </svg>\n",
              "      </button>\n",
              "      \n",
              "  <style>\n",
              "    .colab-df-container {\n",
              "      display:flex;\n",
              "      flex-wrap:wrap;\n",
              "      gap: 12px;\n",
              "    }\n",
              "\n",
              "    .colab-df-convert {\n",
              "      background-color: #E8F0FE;\n",
              "      border: none;\n",
              "      border-radius: 50%;\n",
              "      cursor: pointer;\n",
              "      display: none;\n",
              "      fill: #1967D2;\n",
              "      height: 32px;\n",
              "      padding: 0 0 0 0;\n",
              "      width: 32px;\n",
              "    }\n",
              "\n",
              "    .colab-df-convert:hover {\n",
              "      background-color: #E2EBFA;\n",
              "      box-shadow: 0px 1px 2px rgba(60, 64, 67, 0.3), 0px 1px 3px 1px rgba(60, 64, 67, 0.15);\n",
              "      fill: #174EA6;\n",
              "    }\n",
              "\n",
              "    [theme=dark] .colab-df-convert {\n",
              "      background-color: #3B4455;\n",
              "      fill: #D2E3FC;\n",
              "    }\n",
              "\n",
              "    [theme=dark] .colab-df-convert:hover {\n",
              "      background-color: #434B5C;\n",
              "      box-shadow: 0px 1px 3px 1px rgba(0, 0, 0, 0.15);\n",
              "      filter: drop-shadow(0px 1px 2px rgba(0, 0, 0, 0.3));\n",
              "      fill: #FFFFFF;\n",
              "    }\n",
              "  </style>\n",
              "\n",
              "      <script>\n",
              "        const buttonEl =\n",
              "          document.querySelector('#df-98bf7e76-5df8-4f5a-9cf6-26bbc33b61e9 button.colab-df-convert');\n",
              "        buttonEl.style.display =\n",
              "          google.colab.kernel.accessAllowed ? 'block' : 'none';\n",
              "\n",
              "        async function convertToInteractive(key) {\n",
              "          const element = document.querySelector('#df-98bf7e76-5df8-4f5a-9cf6-26bbc33b61e9');\n",
              "          const dataTable =\n",
              "            await google.colab.kernel.invokeFunction('convertToInteractive',\n",
              "                                                     [key], {});\n",
              "          if (!dataTable) return;\n",
              "\n",
              "          const docLinkHtml = 'Like what you see? Visit the ' +\n",
              "            '<a target=\"_blank\" href=https://colab.research.google.com/notebooks/data_table.ipynb>data table notebook</a>'\n",
              "            + ' to learn more about interactive tables.';\n",
              "          element.innerHTML = '';\n",
              "          dataTable['output_type'] = 'display_data';\n",
              "          await google.colab.output.renderOutput(dataTable, element);\n",
              "          const docLink = document.createElement('div');\n",
              "          docLink.innerHTML = docLinkHtml;\n",
              "          element.appendChild(docLink);\n",
              "        }\n",
              "      </script>\n",
              "    </div>\n",
              "  </div>\n",
              "  "
            ]
          },
          "metadata": {},
          "execution_count": 77
        }
      ]
    },
    {
      "cell_type": "code",
      "source": [
        "playlists_date.shape"
      ],
      "metadata": {
        "colab": {
          "base_uri": "https://localhost:8080/"
        },
        "id": "l6rwbF8PxbUx",
        "outputId": "83576c4d-0737-4e16-9e27-b8e8590aee2f"
      },
      "execution_count": null,
      "outputs": [
        {
          "output_type": "execute_result",
          "data": {
            "text/plain": [
              "(23, 5)"
            ]
          },
          "metadata": {},
          "execution_count": 78
        }
      ]
    },
    {
      "cell_type": "code",
      "source": [
        "# select two columns\n",
        "playlists_date[['name','lastModifiedDate']]"
      ],
      "metadata": {
        "colab": {
          "base_uri": "https://localhost:8080/",
          "height": 770
        },
        "id": "Kxxo1ynr4HII",
        "outputId": "c35b41b8-4add-41cf-f5d3-c6d19135a814"
      },
      "execution_count": null,
      "outputs": [
        {
          "output_type": "execute_result",
          "data": {
            "text/plain": [
              "                      name lastModifiedDate\n",
              "0                  UF Mems       2022-04-11\n",
              "3        Draft Pretty Boys       2021-12-18\n",
              "34               One Magic       2021-11-23\n",
              "40              Sea leaves       2021-08-04\n",
              "44         Girls Night Out       2021-07-08\n",
              "49                21 Party       2021-11-17\n",
              "55                   Happy       2021-11-11\n",
              "68      Chill car playlist       2021-06-08\n",
              "83               Chillaxin       2020-10-20\n",
              "104          Hide and Seek       2020-09-14\n",
              "109       Soft Cream Beats       2021-02-12\n",
              "121             Pop Lovin'       2020-05-18\n",
              "127             Groovy Gal       2021-08-12\n",
              "139               Nice Day       2020-12-28\n",
              "189  Disney's Poppin Tunes       2019-12-17\n",
              "203  Dark side of the moon       2021-04-09\n",
              "224                   1901       2021-06-08\n",
              "269            Work it out       2022-01-29\n",
              "289     Lord, I need you!!       2020-10-07\n",
              "300       Liked from Radio       2019-12-28\n",
              "333              Love City       2021-05-06\n",
              "352          Nicole's Hits       2020-12-11\n",
              "383             Background       2021-10-02"
            ],
            "text/html": [
              "\n",
              "  <div id=\"df-6b790dec-4149-410f-9857-4b90a4471612\">\n",
              "    <div class=\"colab-df-container\">\n",
              "      <div>\n",
              "<style scoped>\n",
              "    .dataframe tbody tr th:only-of-type {\n",
              "        vertical-align: middle;\n",
              "    }\n",
              "\n",
              "    .dataframe tbody tr th {\n",
              "        vertical-align: top;\n",
              "    }\n",
              "\n",
              "    .dataframe thead th {\n",
              "        text-align: right;\n",
              "    }\n",
              "</style>\n",
              "<table border=\"1\" class=\"dataframe\">\n",
              "  <thead>\n",
              "    <tr style=\"text-align: right;\">\n",
              "      <th></th>\n",
              "      <th>name</th>\n",
              "      <th>lastModifiedDate</th>\n",
              "    </tr>\n",
              "  </thead>\n",
              "  <tbody>\n",
              "    <tr>\n",
              "      <th>0</th>\n",
              "      <td>UF Mems</td>\n",
              "      <td>2022-04-11</td>\n",
              "    </tr>\n",
              "    <tr>\n",
              "      <th>3</th>\n",
              "      <td>Draft Pretty Boys</td>\n",
              "      <td>2021-12-18</td>\n",
              "    </tr>\n",
              "    <tr>\n",
              "      <th>34</th>\n",
              "      <td>One Magic</td>\n",
              "      <td>2021-11-23</td>\n",
              "    </tr>\n",
              "    <tr>\n",
              "      <th>40</th>\n",
              "      <td>Sea leaves</td>\n",
              "      <td>2021-08-04</td>\n",
              "    </tr>\n",
              "    <tr>\n",
              "      <th>44</th>\n",
              "      <td>Girls Night Out</td>\n",
              "      <td>2021-07-08</td>\n",
              "    </tr>\n",
              "    <tr>\n",
              "      <th>49</th>\n",
              "      <td>21 Party</td>\n",
              "      <td>2021-11-17</td>\n",
              "    </tr>\n",
              "    <tr>\n",
              "      <th>55</th>\n",
              "      <td>Happy</td>\n",
              "      <td>2021-11-11</td>\n",
              "    </tr>\n",
              "    <tr>\n",
              "      <th>68</th>\n",
              "      <td>Chill car playlist</td>\n",
              "      <td>2021-06-08</td>\n",
              "    </tr>\n",
              "    <tr>\n",
              "      <th>83</th>\n",
              "      <td>Chillaxin</td>\n",
              "      <td>2020-10-20</td>\n",
              "    </tr>\n",
              "    <tr>\n",
              "      <th>104</th>\n",
              "      <td>Hide and Seek</td>\n",
              "      <td>2020-09-14</td>\n",
              "    </tr>\n",
              "    <tr>\n",
              "      <th>109</th>\n",
              "      <td>Soft Cream Beats</td>\n",
              "      <td>2021-02-12</td>\n",
              "    </tr>\n",
              "    <tr>\n",
              "      <th>121</th>\n",
              "      <td>Pop Lovin'</td>\n",
              "      <td>2020-05-18</td>\n",
              "    </tr>\n",
              "    <tr>\n",
              "      <th>127</th>\n",
              "      <td>Groovy Gal</td>\n",
              "      <td>2021-08-12</td>\n",
              "    </tr>\n",
              "    <tr>\n",
              "      <th>139</th>\n",
              "      <td>Nice Day</td>\n",
              "      <td>2020-12-28</td>\n",
              "    </tr>\n",
              "    <tr>\n",
              "      <th>189</th>\n",
              "      <td>Disney's Poppin Tunes</td>\n",
              "      <td>2019-12-17</td>\n",
              "    </tr>\n",
              "    <tr>\n",
              "      <th>203</th>\n",
              "      <td>Dark side of the moon</td>\n",
              "      <td>2021-04-09</td>\n",
              "    </tr>\n",
              "    <tr>\n",
              "      <th>224</th>\n",
              "      <td>1901</td>\n",
              "      <td>2021-06-08</td>\n",
              "    </tr>\n",
              "    <tr>\n",
              "      <th>269</th>\n",
              "      <td>Work it out</td>\n",
              "      <td>2022-01-29</td>\n",
              "    </tr>\n",
              "    <tr>\n",
              "      <th>289</th>\n",
              "      <td>Lord, I need you!!</td>\n",
              "      <td>2020-10-07</td>\n",
              "    </tr>\n",
              "    <tr>\n",
              "      <th>300</th>\n",
              "      <td>Liked from Radio</td>\n",
              "      <td>2019-12-28</td>\n",
              "    </tr>\n",
              "    <tr>\n",
              "      <th>333</th>\n",
              "      <td>Love City</td>\n",
              "      <td>2021-05-06</td>\n",
              "    </tr>\n",
              "    <tr>\n",
              "      <th>352</th>\n",
              "      <td>Nicole's Hits</td>\n",
              "      <td>2020-12-11</td>\n",
              "    </tr>\n",
              "    <tr>\n",
              "      <th>383</th>\n",
              "      <td>Background</td>\n",
              "      <td>2021-10-02</td>\n",
              "    </tr>\n",
              "  </tbody>\n",
              "</table>\n",
              "</div>\n",
              "      <button class=\"colab-df-convert\" onclick=\"convertToInteractive('df-6b790dec-4149-410f-9857-4b90a4471612')\"\n",
              "              title=\"Convert this dataframe to an interactive table.\"\n",
              "              style=\"display:none;\">\n",
              "        \n",
              "  <svg xmlns=\"http://www.w3.org/2000/svg\" height=\"24px\"viewBox=\"0 0 24 24\"\n",
              "       width=\"24px\">\n",
              "    <path d=\"M0 0h24v24H0V0z\" fill=\"none\"/>\n",
              "    <path d=\"M18.56 5.44l.94 2.06.94-2.06 2.06-.94-2.06-.94-.94-2.06-.94 2.06-2.06.94zm-11 1L8.5 8.5l.94-2.06 2.06-.94-2.06-.94L8.5 2.5l-.94 2.06-2.06.94zm10 10l.94 2.06.94-2.06 2.06-.94-2.06-.94-.94-2.06-.94 2.06-2.06.94z\"/><path d=\"M17.41 7.96l-1.37-1.37c-.4-.4-.92-.59-1.43-.59-.52 0-1.04.2-1.43.59L10.3 9.45l-7.72 7.72c-.78.78-.78 2.05 0 2.83L4 21.41c.39.39.9.59 1.41.59.51 0 1.02-.2 1.41-.59l7.78-7.78 2.81-2.81c.8-.78.8-2.07 0-2.86zM5.41 20L4 18.59l7.72-7.72 1.47 1.35L5.41 20z\"/>\n",
              "  </svg>\n",
              "      </button>\n",
              "      \n",
              "  <style>\n",
              "    .colab-df-container {\n",
              "      display:flex;\n",
              "      flex-wrap:wrap;\n",
              "      gap: 12px;\n",
              "    }\n",
              "\n",
              "    .colab-df-convert {\n",
              "      background-color: #E8F0FE;\n",
              "      border: none;\n",
              "      border-radius: 50%;\n",
              "      cursor: pointer;\n",
              "      display: none;\n",
              "      fill: #1967D2;\n",
              "      height: 32px;\n",
              "      padding: 0 0 0 0;\n",
              "      width: 32px;\n",
              "    }\n",
              "\n",
              "    .colab-df-convert:hover {\n",
              "      background-color: #E2EBFA;\n",
              "      box-shadow: 0px 1px 2px rgba(60, 64, 67, 0.3), 0px 1px 3px 1px rgba(60, 64, 67, 0.15);\n",
              "      fill: #174EA6;\n",
              "    }\n",
              "\n",
              "    [theme=dark] .colab-df-convert {\n",
              "      background-color: #3B4455;\n",
              "      fill: #D2E3FC;\n",
              "    }\n",
              "\n",
              "    [theme=dark] .colab-df-convert:hover {\n",
              "      background-color: #434B5C;\n",
              "      box-shadow: 0px 1px 3px 1px rgba(0, 0, 0, 0.15);\n",
              "      filter: drop-shadow(0px 1px 2px rgba(0, 0, 0, 0.3));\n",
              "      fill: #FFFFFF;\n",
              "    }\n",
              "  </style>\n",
              "\n",
              "      <script>\n",
              "        const buttonEl =\n",
              "          document.querySelector('#df-6b790dec-4149-410f-9857-4b90a4471612 button.colab-df-convert');\n",
              "        buttonEl.style.display =\n",
              "          google.colab.kernel.accessAllowed ? 'block' : 'none';\n",
              "\n",
              "        async function convertToInteractive(key) {\n",
              "          const element = document.querySelector('#df-6b790dec-4149-410f-9857-4b90a4471612');\n",
              "          const dataTable =\n",
              "            await google.colab.kernel.invokeFunction('convertToInteractive',\n",
              "                                                     [key], {});\n",
              "          if (!dataTable) return;\n",
              "\n",
              "          const docLinkHtml = 'Like what you see? Visit the ' +\n",
              "            '<a target=\"_blank\" href=https://colab.research.google.com/notebooks/data_table.ipynb>data table notebook</a>'\n",
              "            + ' to learn more about interactive tables.';\n",
              "          element.innerHTML = '';\n",
              "          dataTable['output_type'] = 'display_data';\n",
              "          await google.colab.output.renderOutput(dataTable, element);\n",
              "          const docLink = document.createElement('div');\n",
              "          docLink.innerHTML = docLinkHtml;\n",
              "          element.appendChild(docLink);\n",
              "        }\n",
              "      </script>\n",
              "    </div>\n",
              "  </div>\n",
              "  "
            ]
          },
          "metadata": {},
          "execution_count": 79
        }
      ]
    },
    {
      "cell_type": "code",
      "source": [
        "playlists_date[['lastModifiedDate']]"
      ],
      "metadata": {
        "colab": {
          "base_uri": "https://localhost:8080/",
          "height": 770
        },
        "id": "c8ev1Fm42HMz",
        "outputId": "bfde6ad0-0bb5-4575-e7c5-7a9c33ae0009"
      },
      "execution_count": null,
      "outputs": [
        {
          "output_type": "execute_result",
          "data": {
            "text/plain": [
              "    lastModifiedDate\n",
              "0         2022-04-11\n",
              "3         2021-12-18\n",
              "34        2021-11-23\n",
              "40        2021-08-04\n",
              "44        2021-07-08\n",
              "49        2021-11-17\n",
              "55        2021-11-11\n",
              "68        2021-06-08\n",
              "83        2020-10-20\n",
              "104       2020-09-14\n",
              "109       2021-02-12\n",
              "121       2020-05-18\n",
              "127       2021-08-12\n",
              "139       2020-12-28\n",
              "189       2019-12-17\n",
              "203       2021-04-09\n",
              "224       2021-06-08\n",
              "269       2022-01-29\n",
              "289       2020-10-07\n",
              "300       2019-12-28\n",
              "333       2021-05-06\n",
              "352       2020-12-11\n",
              "383       2021-10-02"
            ],
            "text/html": [
              "\n",
              "  <div id=\"df-edde2b75-8ab5-432e-b856-b31919be0cc8\">\n",
              "    <div class=\"colab-df-container\">\n",
              "      <div>\n",
              "<style scoped>\n",
              "    .dataframe tbody tr th:only-of-type {\n",
              "        vertical-align: middle;\n",
              "    }\n",
              "\n",
              "    .dataframe tbody tr th {\n",
              "        vertical-align: top;\n",
              "    }\n",
              "\n",
              "    .dataframe thead th {\n",
              "        text-align: right;\n",
              "    }\n",
              "</style>\n",
              "<table border=\"1\" class=\"dataframe\">\n",
              "  <thead>\n",
              "    <tr style=\"text-align: right;\">\n",
              "      <th></th>\n",
              "      <th>lastModifiedDate</th>\n",
              "    </tr>\n",
              "  </thead>\n",
              "  <tbody>\n",
              "    <tr>\n",
              "      <th>0</th>\n",
              "      <td>2022-04-11</td>\n",
              "    </tr>\n",
              "    <tr>\n",
              "      <th>3</th>\n",
              "      <td>2021-12-18</td>\n",
              "    </tr>\n",
              "    <tr>\n",
              "      <th>34</th>\n",
              "      <td>2021-11-23</td>\n",
              "    </tr>\n",
              "    <tr>\n",
              "      <th>40</th>\n",
              "      <td>2021-08-04</td>\n",
              "    </tr>\n",
              "    <tr>\n",
              "      <th>44</th>\n",
              "      <td>2021-07-08</td>\n",
              "    </tr>\n",
              "    <tr>\n",
              "      <th>49</th>\n",
              "      <td>2021-11-17</td>\n",
              "    </tr>\n",
              "    <tr>\n",
              "      <th>55</th>\n",
              "      <td>2021-11-11</td>\n",
              "    </tr>\n",
              "    <tr>\n",
              "      <th>68</th>\n",
              "      <td>2021-06-08</td>\n",
              "    </tr>\n",
              "    <tr>\n",
              "      <th>83</th>\n",
              "      <td>2020-10-20</td>\n",
              "    </tr>\n",
              "    <tr>\n",
              "      <th>104</th>\n",
              "      <td>2020-09-14</td>\n",
              "    </tr>\n",
              "    <tr>\n",
              "      <th>109</th>\n",
              "      <td>2021-02-12</td>\n",
              "    </tr>\n",
              "    <tr>\n",
              "      <th>121</th>\n",
              "      <td>2020-05-18</td>\n",
              "    </tr>\n",
              "    <tr>\n",
              "      <th>127</th>\n",
              "      <td>2021-08-12</td>\n",
              "    </tr>\n",
              "    <tr>\n",
              "      <th>139</th>\n",
              "      <td>2020-12-28</td>\n",
              "    </tr>\n",
              "    <tr>\n",
              "      <th>189</th>\n",
              "      <td>2019-12-17</td>\n",
              "    </tr>\n",
              "    <tr>\n",
              "      <th>203</th>\n",
              "      <td>2021-04-09</td>\n",
              "    </tr>\n",
              "    <tr>\n",
              "      <th>224</th>\n",
              "      <td>2021-06-08</td>\n",
              "    </tr>\n",
              "    <tr>\n",
              "      <th>269</th>\n",
              "      <td>2022-01-29</td>\n",
              "    </tr>\n",
              "    <tr>\n",
              "      <th>289</th>\n",
              "      <td>2020-10-07</td>\n",
              "    </tr>\n",
              "    <tr>\n",
              "      <th>300</th>\n",
              "      <td>2019-12-28</td>\n",
              "    </tr>\n",
              "    <tr>\n",
              "      <th>333</th>\n",
              "      <td>2021-05-06</td>\n",
              "    </tr>\n",
              "    <tr>\n",
              "      <th>352</th>\n",
              "      <td>2020-12-11</td>\n",
              "    </tr>\n",
              "    <tr>\n",
              "      <th>383</th>\n",
              "      <td>2021-10-02</td>\n",
              "    </tr>\n",
              "  </tbody>\n",
              "</table>\n",
              "</div>\n",
              "      <button class=\"colab-df-convert\" onclick=\"convertToInteractive('df-edde2b75-8ab5-432e-b856-b31919be0cc8')\"\n",
              "              title=\"Convert this dataframe to an interactive table.\"\n",
              "              style=\"display:none;\">\n",
              "        \n",
              "  <svg xmlns=\"http://www.w3.org/2000/svg\" height=\"24px\"viewBox=\"0 0 24 24\"\n",
              "       width=\"24px\">\n",
              "    <path d=\"M0 0h24v24H0V0z\" fill=\"none\"/>\n",
              "    <path d=\"M18.56 5.44l.94 2.06.94-2.06 2.06-.94-2.06-.94-.94-2.06-.94 2.06-2.06.94zm-11 1L8.5 8.5l.94-2.06 2.06-.94-2.06-.94L8.5 2.5l-.94 2.06-2.06.94zm10 10l.94 2.06.94-2.06 2.06-.94-2.06-.94-.94-2.06-.94 2.06-2.06.94z\"/><path d=\"M17.41 7.96l-1.37-1.37c-.4-.4-.92-.59-1.43-.59-.52 0-1.04.2-1.43.59L10.3 9.45l-7.72 7.72c-.78.78-.78 2.05 0 2.83L4 21.41c.39.39.9.59 1.41.59.51 0 1.02-.2 1.41-.59l7.78-7.78 2.81-2.81c.8-.78.8-2.07 0-2.86zM5.41 20L4 18.59l7.72-7.72 1.47 1.35L5.41 20z\"/>\n",
              "  </svg>\n",
              "      </button>\n",
              "      \n",
              "  <style>\n",
              "    .colab-df-container {\n",
              "      display:flex;\n",
              "      flex-wrap:wrap;\n",
              "      gap: 12px;\n",
              "    }\n",
              "\n",
              "    .colab-df-convert {\n",
              "      background-color: #E8F0FE;\n",
              "      border: none;\n",
              "      border-radius: 50%;\n",
              "      cursor: pointer;\n",
              "      display: none;\n",
              "      fill: #1967D2;\n",
              "      height: 32px;\n",
              "      padding: 0 0 0 0;\n",
              "      width: 32px;\n",
              "    }\n",
              "\n",
              "    .colab-df-convert:hover {\n",
              "      background-color: #E2EBFA;\n",
              "      box-shadow: 0px 1px 2px rgba(60, 64, 67, 0.3), 0px 1px 3px 1px rgba(60, 64, 67, 0.15);\n",
              "      fill: #174EA6;\n",
              "    }\n",
              "\n",
              "    [theme=dark] .colab-df-convert {\n",
              "      background-color: #3B4455;\n",
              "      fill: #D2E3FC;\n",
              "    }\n",
              "\n",
              "    [theme=dark] .colab-df-convert:hover {\n",
              "      background-color: #434B5C;\n",
              "      box-shadow: 0px 1px 3px 1px rgba(0, 0, 0, 0.15);\n",
              "      filter: drop-shadow(0px 1px 2px rgba(0, 0, 0, 0.3));\n",
              "      fill: #FFFFFF;\n",
              "    }\n",
              "  </style>\n",
              "\n",
              "      <script>\n",
              "        const buttonEl =\n",
              "          document.querySelector('#df-edde2b75-8ab5-432e-b856-b31919be0cc8 button.colab-df-convert');\n",
              "        buttonEl.style.display =\n",
              "          google.colab.kernel.accessAllowed ? 'block' : 'none';\n",
              "\n",
              "        async function convertToInteractive(key) {\n",
              "          const element = document.querySelector('#df-edde2b75-8ab5-432e-b856-b31919be0cc8');\n",
              "          const dataTable =\n",
              "            await google.colab.kernel.invokeFunction('convertToInteractive',\n",
              "                                                     [key], {});\n",
              "          if (!dataTable) return;\n",
              "\n",
              "          const docLinkHtml = 'Like what you see? Visit the ' +\n",
              "            '<a target=\"_blank\" href=https://colab.research.google.com/notebooks/data_table.ipynb>data table notebook</a>'\n",
              "            + ' to learn more about interactive tables.';\n",
              "          element.innerHTML = '';\n",
              "          dataTable['output_type'] = 'display_data';\n",
              "          await google.colab.output.renderOutput(dataTable, element);\n",
              "          const docLink = document.createElement('div');\n",
              "          docLink.innerHTML = docLinkHtml;\n",
              "          element.appendChild(docLink);\n",
              "        }\n",
              "      </script>\n",
              "    </div>\n",
              "  </div>\n",
              "  "
            ]
          },
          "metadata": {},
          "execution_count": 80
        }
      ]
    },
    {
      "cell_type": "markdown",
      "source": [
        "----------------------------------------------------------"
      ],
      "metadata": {
        "id": "Do75d-k08jKj"
      }
    },
    {
      "cell_type": "markdown",
      "source": [
        "GOAL: \n",
        "\n",
        "Make an organized time series chart of the playlists and when they were last modified"
      ],
      "metadata": {
        "id": "Vw_OdpgpATOE"
      }
    },
    {
      "cell_type": "markdown",
      "source": [
        "Here, we are assigning variables to the names and dates that we want displayed on the timeline. This will make it easier to work with the data and organize it on the visual"
      ],
      "metadata": {
        "id": "VE9kGOiT3Kws"
      }
    },
    {
      "cell_type": "code",
      "source": [
        "import matplotlib.pyplot as plt\n",
        "import numpy as np\n",
        "import matplotlib.dates as mdates\n",
        "from datetime import datetime\n",
        "dates = []\n",
        "names = []\n",
        "\n",
        "names =['UF Mems','Draft Pretty Boys','One Magic','Sea leaves','Girls Night Out',\n",
        "    '21 Party','Happy','Chill car playlist','Chillaxin','Hide and Seek',\n",
        "    'Soft Cream Beats','Pop Lovin','Groovy Gal','Nice Day',\n",
        "    'Disney\\'s Poppin Tunes','Dark side of the moon','1901','Work it out',\n",
        "    'Lord, I need you!!',\"'Liked from Radio'\",'Love City','Nicole\\'s Hits',\n",
        "    'Background']\n",
        "\n",
        "dates = ['2022-04-11','2021-12-18','2021-11-23','2021-08-04',\n",
        "             '2021-07-08','2021-11-17','2021-11-11','2021-06-08','2020-10-20',\n",
        "             '2020-09-14','2021-02-12','2020-05-18','2021-08-12','2020-12-28',\n",
        "             '2019-12-17','2021-04-09','2021-06-08','2022-01-29','2020-10-07',\n",
        "             '2019-12-28','2021-05-06','2020-12-11','2021-10-02']\n",
        "\n",
        "# Convert date strings (e.g. 2014-10-18) to datetime\n",
        "dates = [datetime.strptime(d, \"%Y-%m-%d\") for d in dates]"
      ],
      "metadata": {
        "id": "yvAq58kskPwt"
      },
      "execution_count": null,
      "outputs": []
    },
    {
      "cell_type": "markdown",
      "source": [
        "Use the variables that are set to organize on the timeline\n"
      ],
      "metadata": {
        "id": "S2aukz-bpEMl"
      }
    },
    {
      "cell_type": "code",
      "source": [
        "# Choose some nice levels- this alows to put the label names at different\n",
        "# levels so there is no overlap\n",
        "levels = np.tile([ -5, 5, -3, 3,-2, 2, 9],\n",
        "                 int(np.ceil(len(dates)/6)))[:len(dates)]\n",
        "\n",
        "# Create figure and plot a stem plot with the date\n",
        "fig, ax = plt.subplots(figsize=(20, 6), constrained_layout=True)\n",
        "ax.set(title=\"Last Modified Dates for User Playlists\")\n",
        "\n",
        "markerline, stemline, baseline = ax.stem(dates, levels,\n",
        "                                         linefmt=\"k-\", basefmt=\"g-\",\n",
        "                                         use_line_collection=True)\n",
        "\n",
        "plt.setp(markerline, mec=\"k\", mfc=\"w\", zorder=3)\n",
        "\n",
        "# Shift the markers to the baseline by replacing the y-data by zeros.\n",
        "markerline.set_ydata(np.zeros(len(dates)))\n",
        "\n",
        "# annotate lines\n",
        "vert = np.array(['top', 'bottom'])[(levels > 0).astype(int)]\n",
        "for d, l, r, va in zip(dates, levels, names, vert):\n",
        "    ax.annotate(r, xy=(d, l), xytext=(-3, np.sign(l)*3),\n",
        "                textcoords=\"offset points\", va=va, ha=\"left\")\n",
        "\n",
        "# format xaxis with 3 month intervals\n",
        "ax.get_xaxis().set_major_locator(mdates.MonthLocator(interval=3))\n",
        "ax.get_xaxis().set_major_formatter(mdates.DateFormatter(\"%b %Y\"))\n",
        "plt.setp(ax.get_xticklabels(), rotation=30, ha=\"right\")\n",
        "\n",
        "# remove y axis and spines\n",
        "ax.get_yaxis().set_visible(False)\n",
        "for spine in [\"left\", \"top\"]:\n",
        "    ax.spines[spine].set_visible(False)\n",
        "\n",
        "ax.margins(y=0.1)\n",
        "plt.show()"
      ],
      "metadata": {
        "colab": {
          "base_uri": "https://localhost:8080/",
          "height": 313
        },
        "id": "DG33kjWIpGrZ",
        "outputId": "e26e535f-f6d0-4a15-d193-b32216e33e93"
      },
      "execution_count": null,
      "outputs": [
        {
          "output_type": "display_data",
          "data": {
            "text/plain": [
              "<Figure size 1440x432 with 1 Axes>"
            ],
            "image/png": "[encoded data removed]"
          },
          "metadata": {
            "needs_background": "light"
          }
        }
      ]
    },
    {
      "cell_type": "markdown",
      "source": [
        "**Goal:** Find how many songs are on each playlist- create a bar chart showing playlist # of songs"
      ],
      "metadata": {
        "id": "FL6DEFwYAK7Y"
      }
    },
    {
      "cell_type": "code",
      "source": [
        "#Create a variable that shows how many songs are in each playlist\n",
        "name=pd.value_counts(playlists_clean['name'])\n",
        "print(name)"
      ],
      "metadata": {
        "colab": {
          "base_uri": "https://localhost:8080/"
        },
        "id": "RpeJImSTtVme",
        "outputId": "51def5ad-5b07-496b-aacf-ca6ad01c5f76"
      },
      "execution_count": null,
      "outputs": [
        {
          "output_type": "stream",
          "name": "stdout",
          "text": [
            "UF Mems                  1\n",
            "Groovy Gal               1\n",
            "Nicole's Hits            1\n",
            "Love City                1\n",
            "Liked from Radio         1\n",
            "Lord, I need you!!       1\n",
            "Work it out              1\n",
            "1901                     1\n",
            "Dark side of the moon    1\n",
            "Disney's Poppin Tunes    1\n",
            "Nice Day                 1\n",
            "Pop Lovin'               1\n",
            "Draft Pretty Boys        1\n",
            "Soft Cream Beats         1\n",
            "Hide and Seek            1\n",
            "Chillaxin                1\n",
            "Chill car playlist       1\n",
            "Happy                    1\n",
            "21 Party                 1\n",
            "Girls Night Out          1\n",
            "Sea leaves               1\n",
            "One Magic                1\n",
            "Background               1\n",
            "Name: name, dtype: int64\n"
          ]
        }
      ]
    },
    {
      "cell_type": "code",
      "source": [
        "#Use the '.shape' function to see how many playlists there are\n",
        "name.shape"
      ],
      "metadata": {
        "colab": {
          "base_uri": "https://localhost:8080/"
        },
        "id": "HW0G8subnEEI",
        "outputId": "b45677ad-7f8c-48b1-f9c1-313efcbfb4ba"
      },
      "execution_count": null,
      "outputs": [
        {
          "output_type": "execute_result",
          "data": {
            "text/plain": [
              "(23,)"
            ]
          },
          "metadata": {},
          "execution_count": 87
        }
      ]
    },
    {
      "cell_type": "code",
      "source": [
        "#Create a bar graph that displays songs on each playlist \n",
        "playlist_Name = ['UF Mems','Draft Pretty Boys','One Magic','Sea leaves','Girls Night Out',\n",
        "    '21 Party','Happy','Chill car playlist','Chillaxin','Hide and Seek',\n",
        "    'Soft Cream Beats','Pop Lovin','Groovy Gal','Nice Day',\n",
        "    'Disney\\'s Poppin Tunes','Dark side of the moon','1901','Work it out',\n",
        "    'Lord, I need you!!',\"'Liked from Radio'\",'Love City','Nicole\\'s Hits',\n",
        "    'Background'] \n",
        "Count=[3,31,6,4,5,6,13,15,21,5,12,6,12,50,14,21,45,20,11,33,19,31,130]\n",
        "\n",
        "#Use a color to label to top 3 playlists\n",
        "plt.bar(playlist_Name, Count, color='kkkkkkkkkkkkkgkkgkkkkkg')\n",
        "figsize=(30,30)\n",
        "plt.xticks(rotation=60, ha='right')\n",
        "plt.title('Songs per Playlists')\n",
        "plt.ylabel('Count')\n",
        "plt.xlabel('Playlists Names')"
      ],
      "metadata": {
        "colab": {
          "base_uri": "https://localhost:8080/",
          "height": 462
        },
        "id": "ywsKTClZyQ9J",
        "outputId": "5d234551-4933-4424-fe83-47d097a366e2"
      },
      "execution_count": null,
      "outputs": [
        {
          "output_type": "stream",
          "name": "stderr",
          "text": [
            "/usr/local/lib/python3.7/dist-packages/ipykernel_launcher.py:11: MatplotlibDeprecationWarning: Using a string of single character colors as a color sequence is deprecated. Use an explicit list instead.\n",
            "  # This is added back by InteractiveShellApp.init_path()\n"
          ]
        },
        {
          "output_type": "execute_result",
          "data": {
            "text/plain": [
              "Text(0.5, 0, 'Playlists Names')"
            ]
          },
          "metadata": {},
          "execution_count": 84
        },
        {
          "output_type": "display_data",
          "data": {
            "text/plain": [
              "<Figure size 432x288 with 1 Axes>"
            ],
            "image/png": "[encoded data removed]"
          },
          "metadata": {
            "needs_background": "light"
          }
        }
      ]
    }
  ]
}