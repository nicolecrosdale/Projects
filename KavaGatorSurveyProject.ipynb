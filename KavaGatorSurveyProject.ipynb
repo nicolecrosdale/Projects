{
  "nbformat": 4,
  "nbformat_minor": 0,
  "metadata": {
    "colab": {
      "name": "KavaGatorSurvey.ipynb",
      "provenance": []
    },
    "kernelspec": {
      "name": "python3",
      "display_name": "Python 3"
    },
    "language_info": {
      "name": "python"
    }
  },
  "cells": [
    {
      "cell_type": "code",
      "execution_count": 2,
      "metadata": {
        "id": "6KhUy4Qrompf"
      },
      "outputs": [],
      "source": [
        "import pandas as pd\n",
        "import matplotlib.pyplot as plt\n",
        "import numpy as np"
      ]
    },
    {
      "cell_type": "code",
      "source": [
        "#Upload data\n",
        "def load_data(file):                                                    \n",
        "    return pd.read_csv(file, sep = \",\", index_col = False, header=0)\n",
        "KavaGator_df=pd.read_excel(\"Customer Data_KavaGator.xlsx\")"
      ],
      "metadata": {
        "id": "v2o7r30hqFu9"
      },
      "execution_count": 3,
      "outputs": []
    },
    {
      "cell_type": "code",
      "source": [
        "KavaGator_df.describe()"
      ],
      "metadata": {
        "colab": {
          "base_uri": "https://localhost:8080/",
          "height": 968
        },
        "id": "MqY3_YVmsY4F",
        "outputId": "982b2c70-5e13-4e65-dbe4-3c858f1d8ab2"
      },
      "execution_count": 4,
      "outputs": [
        {
          "output_type": "execute_result",
          "data": {
            "text/plain": [
              "                 Age Gender Identity         Ethnicity  \\\n",
              "count             72              72                72   \n",
              "unique             3               3                 9   \n",
              "top     18- 20 years          Female  White/ Caucasian   \n",
              "freq              52              41                43   \n",
              "\n",
              "       Are you a college student?  \\\n",
              "count                          72   \n",
              "unique                          2   \n",
              "top                           Yes   \n",
              "freq                           70   \n",
              "\n",
              "       Which resource motivated you to attend a Gainesville coffee shop, for the first time?  \\\n",
              "count                                                  71                                      \n",
              "unique                                                  3                                      \n",
              "top                       Heard about it from a friend(s)                                      \n",
              "freq                                                   58                                      \n",
              "\n",
              "       Which of these of features contribute to a good coffee shop experience?(Pick your top 5) - Selected Choice  \\\n",
              "count                                                  70                                                           \n",
              "unique                                                 40                                                           \n",
              "top     Wide beverage variety,Aesthetically appealing ...                                                           \n",
              "freq                                                    9                                                           \n",
              "\n",
              "       Which of these of features contribute to a good coffee shop experience?(Pick your top 5) - Other - Text  \\\n",
              "count                                                   4                                                        \n",
              "unique                                                  4                                                        \n",
              "top                                    Good availability                                                         \n",
              "freq                                                    1                                                        \n",
              "\n",
              "       Which form of communication do you find most effective for promotional messages ?  \\\n",
              "count                                                  71                                  \n",
              "unique                                                  6                                  \n",
              "top                                             Instagram                                  \n",
              "freq                                                   54                                  \n",
              "\n",
              "       Kava is a beverage made from the root of a plant native to the South Pacific. Kava is known to have a similar effects to alcohol without the harmful impact on your body. Does this sound like a product that may pique your interest if you had more details on the product?  \\\n",
              "count                                                  71                                                                                                                                                                                                                              \n",
              "unique                                                  3                                                                                                                                                                                                                              \n",
              "top                                                   Yes                                                                                                                                                                                                                              \n",
              "freq                                                   35                                                                                                                                                                                                                              \n",
              "\n",
              "                        How familiar are you with Kava? Have you tried Kava?  \n",
              "count                                                70                   70  \n",
              "unique                                                3                    2  \n",
              "top     1- I've never heard of it (Not Familiar at All)                   No  \n",
              "freq                                                 45                   60  "
            ],
            "text/html": [
              "\n",
              "  <div id=\"df-530d9a19-4255-4382-84ae-30a91c053566\">\n",
              "    <div class=\"colab-df-container\">\n",
              "      <div>\n",
              "<style scoped>\n",
              "    .dataframe tbody tr th:only-of-type {\n",
              "        vertical-align: middle;\n",
              "    }\n",
              "\n",
              "    .dataframe tbody tr th {\n",
              "        vertical-align: top;\n",
              "    }\n",
              "\n",
              "    .dataframe thead th {\n",
              "        text-align: right;\n",
              "    }\n",
              "</style>\n",
              "<table border=\"1\" class=\"dataframe\">\n",
              "  <thead>\n",
              "    <tr style=\"text-align: right;\">\n",
              "      <th></th>\n",
              "      <th>Age</th>\n",
              "      <th>Gender Identity</th>\n",
              "      <th>Ethnicity</th>\n",
              "      <th>Are you a college student?</th>\n",
              "      <th>Which resource motivated you to attend a Gainesville coffee shop, for the first time?</th>\n",
              "      <th>Which of these of features contribute to a good coffee shop experience?(Pick your top 5) - Selected Choice</th>\n",
              "      <th>Which of these of features contribute to a good coffee shop experience?(Pick your top 5) - Other - Text</th>\n",
              "      <th>Which form of communication do you find most effective for promotional messages ?</th>\n",
              "      <th>Kava is a beverage made from the root of a plant native to the South Pacific. Kava is known to have a similar effects to alcohol without the harmful impact on your body. Does this sound like a product that may pique your interest if you had more details on the product?</th>\n",
              "      <th>How familiar are you with Kava?</th>\n",
              "      <th>Have you tried Kava?</th>\n",
              "    </tr>\n",
              "  </thead>\n",
              "  <tbody>\n",
              "    <tr>\n",
              "      <th>count</th>\n",
              "      <td>72</td>\n",
              "      <td>72</td>\n",
              "      <td>72</td>\n",
              "      <td>72</td>\n",
              "      <td>71</td>\n",
              "      <td>70</td>\n",
              "      <td>4</td>\n",
              "      <td>71</td>\n",
              "      <td>71</td>\n",
              "      <td>70</td>\n",
              "      <td>70</td>\n",
              "    </tr>\n",
              "    <tr>\n",
              "      <th>unique</th>\n",
              "      <td>3</td>\n",
              "      <td>3</td>\n",
              "      <td>9</td>\n",
              "      <td>2</td>\n",
              "      <td>3</td>\n",
              "      <td>40</td>\n",
              "      <td>4</td>\n",
              "      <td>6</td>\n",
              "      <td>3</td>\n",
              "      <td>3</td>\n",
              "      <td>2</td>\n",
              "    </tr>\n",
              "    <tr>\n",
              "      <th>top</th>\n",
              "      <td>18- 20 years</td>\n",
              "      <td>Female</td>\n",
              "      <td>White/ Caucasian</td>\n",
              "      <td>Yes</td>\n",
              "      <td>Heard about it from a friend(s)</td>\n",
              "      <td>Wide beverage variety,Aesthetically appealing ...</td>\n",
              "      <td>Good availability</td>\n",
              "      <td>Instagram</td>\n",
              "      <td>Yes</td>\n",
              "      <td>1- I've never heard of it (Not Familiar at All)</td>\n",
              "      <td>No</td>\n",
              "    </tr>\n",
              "    <tr>\n",
              "      <th>freq</th>\n",
              "      <td>52</td>\n",
              "      <td>41</td>\n",
              "      <td>43</td>\n",
              "      <td>70</td>\n",
              "      <td>58</td>\n",
              "      <td>9</td>\n",
              "      <td>1</td>\n",
              "      <td>54</td>\n",
              "      <td>35</td>\n",
              "      <td>45</td>\n",
              "      <td>60</td>\n",
              "    </tr>\n",
              "  </tbody>\n",
              "</table>\n",
              "</div>\n",
              "      <button class=\"colab-df-convert\" onclick=\"convertToInteractive('df-530d9a19-4255-4382-84ae-30a91c053566')\"\n",
              "              title=\"Convert this dataframe to an interactive table.\"\n",
              "              style=\"display:none;\">\n",
              "        \n",
              "  <svg xmlns=\"http://www.w3.org/2000/svg\" height=\"24px\"viewBox=\"0 0 24 24\"\n",
              "       width=\"24px\">\n",
              "    <path d=\"M0 0h24v24H0V0z\" fill=\"none\"/>\n",
              "    <path d=\"M18.56 5.44l.94 2.06.94-2.06 2.06-.94-2.06-.94-.94-2.06-.94 2.06-2.06.94zm-11 1L8.5 8.5l.94-2.06 2.06-.94-2.06-.94L8.5 2.5l-.94 2.06-2.06.94zm10 10l.94 2.06.94-2.06 2.06-.94-2.06-.94-.94-2.06-.94 2.06-2.06.94z\"/><path d=\"M17.41 7.96l-1.37-1.37c-.4-.4-.92-.59-1.43-.59-.52 0-1.04.2-1.43.59L10.3 9.45l-7.72 7.72c-.78.78-.78 2.05 0 2.83L4 21.41c.39.39.9.59 1.41.59.51 0 1.02-.2 1.41-.59l7.78-7.78 2.81-2.81c.8-.78.8-2.07 0-2.86zM5.41 20L4 18.59l7.72-7.72 1.47 1.35L5.41 20z\"/>\n",
              "  </svg>\n",
              "      </button>\n",
              "      \n",
              "  <style>\n",
              "    .colab-df-container {\n",
              "      display:flex;\n",
              "      flex-wrap:wrap;\n",
              "      gap: 12px;\n",
              "    }\n",
              "\n",
              "    .colab-df-convert {\n",
              "      background-color: #E8F0FE;\n",
              "      border: none;\n",
              "      border-radius: 50%;\n",
              "      cursor: pointer;\n",
              "      display: none;\n",
              "      fill: #1967D2;\n",
              "      height: 32px;\n",
              "      padding: 0 0 0 0;\n",
              "      width: 32px;\n",
              "    }\n",
              "\n",
              "    .colab-df-convert:hover {\n",
              "      background-color: #E2EBFA;\n",
              "      box-shadow: 0px 1px 2px rgba(60, 64, 67, 0.3), 0px 1px 3px 1px rgba(60, 64, 67, 0.15);\n",
              "      fill: #174EA6;\n",
              "    }\n",
              "\n",
              "    [theme=dark] .colab-df-convert {\n",
              "      background-color: #3B4455;\n",
              "      fill: #D2E3FC;\n",
              "    }\n",
              "\n",
              "    [theme=dark] .colab-df-convert:hover {\n",
              "      background-color: #434B5C;\n",
              "      box-shadow: 0px 1px 3px 1px rgba(0, 0, 0, 0.15);\n",
              "      filter: drop-shadow(0px 1px 2px rgba(0, 0, 0, 0.3));\n",
              "      fill: #FFFFFF;\n",
              "    }\n",
              "  </style>\n",
              "\n",
              "      <script>\n",
              "        const buttonEl =\n",
              "          document.querySelector('#df-530d9a19-4255-4382-84ae-30a91c053566 button.colab-df-convert');\n",
              "        buttonEl.style.display =\n",
              "          google.colab.kernel.accessAllowed ? 'block' : 'none';\n",
              "\n",
              "        async function convertToInteractive(key) {\n",
              "          const element = document.querySelector('#df-530d9a19-4255-4382-84ae-30a91c053566');\n",
              "          const dataTable =\n",
              "            await google.colab.kernel.invokeFunction('convertToInteractive',\n",
              "                                                     [key], {});\n",
              "          if (!dataTable) return;\n",
              "\n",
              "          const docLinkHtml = 'Like what you see? Visit the ' +\n",
              "            '<a target=\"_blank\" href=https://colab.research.google.com/notebooks/data_table.ipynb>data table notebook</a>'\n",
              "            + ' to learn more about interactive tables.';\n",
              "          element.innerHTML = '';\n",
              "          dataTable['output_type'] = 'display_data';\n",
              "          await google.colab.output.renderOutput(dataTable, element);\n",
              "          const docLink = document.createElement('div');\n",
              "          docLink.innerHTML = docLinkHtml;\n",
              "          element.appendChild(docLink);\n",
              "        }\n",
              "      </script>\n",
              "    </div>\n",
              "  </div>\n",
              "  "
            ]
          },
          "metadata": {},
          "execution_count": 4
        }
      ]
    },
    {
      "cell_type": "code",
      "source": [
        "KavaGator_df_column_names = list(KavaGator_df)\n",
        "print(KavaGator_df_column_names)"
      ],
      "metadata": {
        "colab": {
          "base_uri": "https://localhost:8080/"
        },
        "id": "mgphjjqurozm",
        "outputId": "26c75958-576f-4177-db27-40c4bb256663"
      },
      "execution_count": 5,
      "outputs": [
        {
          "output_type": "stream",
          "name": "stdout",
          "text": [
            "['Age', 'Gender Identity', 'Ethnicity', 'Are you a college student?', 'Which resource motivated you to attend a Gainesville coffee shop, for the first time?', 'Which of these of features contribute to a good coffee shop experience?(Pick your top 5) - Selected Choice', 'Which of these of features contribute to a good coffee shop experience?(Pick your top 5) - Other - Text', 'Which form of communication do you find most effective for promotional messages ?', 'Kava is a beverage made from the root of a plant native to the South Pacific. Kava is known to have a similar effects to alcohol without the harmful impact on your body. Does this sound like a product that may pique your interest if you had more details on the product?', 'How familiar are you with Kava?', 'Have you tried Kava?']\n"
          ]
        }
      ]
    },
    {
      "cell_type": "code",
      "source": [
        "pd.crosstab(KavaGator_df['Have you tried Kava?'], KavaGator_df['Gender Identity'])"
      ],
      "metadata": {
        "colab": {
          "base_uri": "https://localhost:8080/",
          "height": 143
        },
        "id": "PxDxY9Kqu0Lp",
        "outputId": "227cdbce-b07f-4395-e811-0b052e82a34e"
      },
      "execution_count": 6,
      "outputs": [
        {
          "output_type": "execute_result",
          "data": {
            "text/plain": [
              "Gender Identity       Female  Male  Non-binary / third gender\n",
              "Have you tried Kava?                                         \n",
              "No                        36    22                          2\n",
              "Yes                        5     4                          1"
            ],
            "text/html": [
              "\n",
              "  <div id=\"df-0fd79c1a-b6fa-46a4-9f87-f5d4e78f87c1\">\n",
              "    <div class=\"colab-df-container\">\n",
              "      <div>\n",
              "<style scoped>\n",
              "    .dataframe tbody tr th:only-of-type {\n",
              "        vertical-align: middle;\n",
              "    }\n",
              "\n",
              "    .dataframe tbody tr th {\n",
              "        vertical-align: top;\n",
              "    }\n",
              "\n",
              "    .dataframe thead th {\n",
              "        text-align: right;\n",
              "    }\n",
              "</style>\n",
              "<table border=\"1\" class=\"dataframe\">\n",
              "  <thead>\n",
              "    <tr style=\"text-align: right;\">\n",
              "      <th>Gender Identity</th>\n",
              "      <th>Female</th>\n",
              "      <th>Male</th>\n",
              "      <th>Non-binary / third gender</th>\n",
              "    </tr>\n",
              "    <tr>\n",
              "      <th>Have you tried Kava?</th>\n",
              "      <th></th>\n",
              "      <th></th>\n",
              "      <th></th>\n",
              "    </tr>\n",
              "  </thead>\n",
              "  <tbody>\n",
              "    <tr>\n",
              "      <th>No</th>\n",
              "      <td>36</td>\n",
              "      <td>22</td>\n",
              "      <td>2</td>\n",
              "    </tr>\n",
              "    <tr>\n",
              "      <th>Yes</th>\n",
              "      <td>5</td>\n",
              "      <td>4</td>\n",
              "      <td>1</td>\n",
              "    </tr>\n",
              "  </tbody>\n",
              "</table>\n",
              "</div>\n",
              "      <button class=\"colab-df-convert\" onclick=\"convertToInteractive('df-0fd79c1a-b6fa-46a4-9f87-f5d4e78f87c1')\"\n",
              "              title=\"Convert this dataframe to an interactive table.\"\n",
              "              style=\"display:none;\">\n",
              "        \n",
              "  <svg xmlns=\"http://www.w3.org/2000/svg\" height=\"24px\"viewBox=\"0 0 24 24\"\n",
              "       width=\"24px\">\n",
              "    <path d=\"M0 0h24v24H0V0z\" fill=\"none\"/>\n",
              "    <path d=\"M18.56 5.44l.94 2.06.94-2.06 2.06-.94-2.06-.94-.94-2.06-.94 2.06-2.06.94zm-11 1L8.5 8.5l.94-2.06 2.06-.94-2.06-.94L8.5 2.5l-.94 2.06-2.06.94zm10 10l.94 2.06.94-2.06 2.06-.94-2.06-.94-.94-2.06-.94 2.06-2.06.94z\"/><path d=\"M17.41 7.96l-1.37-1.37c-.4-.4-.92-.59-1.43-.59-.52 0-1.04.2-1.43.59L10.3 9.45l-7.72 7.72c-.78.78-.78 2.05 0 2.83L4 21.41c.39.39.9.59 1.41.59.51 0 1.02-.2 1.41-.59l7.78-7.78 2.81-2.81c.8-.78.8-2.07 0-2.86zM5.41 20L4 18.59l7.72-7.72 1.47 1.35L5.41 20z\"/>\n",
              "  </svg>\n",
              "      </button>\n",
              "      \n",
              "  <style>\n",
              "    .colab-df-container {\n",
              "      display:flex;\n",
              "      flex-wrap:wrap;\n",
              "      gap: 12px;\n",
              "    }\n",
              "\n",
              "    .colab-df-convert {\n",
              "      background-color: #E8F0FE;\n",
              "      border: none;\n",
              "      border-radius: 50%;\n",
              "      cursor: pointer;\n",
              "      display: none;\n",
              "      fill: #1967D2;\n",
              "      height: 32px;\n",
              "      padding: 0 0 0 0;\n",
              "      width: 32px;\n",
              "    }\n",
              "\n",
              "    .colab-df-convert:hover {\n",
              "      background-color: #E2EBFA;\n",
              "      box-shadow: 0px 1px 2px rgba(60, 64, 67, 0.3), 0px 1px 3px 1px rgba(60, 64, 67, 0.15);\n",
              "      fill: #174EA6;\n",
              "    }\n",
              "\n",
              "    [theme=dark] .colab-df-convert {\n",
              "      background-color: #3B4455;\n",
              "      fill: #D2E3FC;\n",
              "    }\n",
              "\n",
              "    [theme=dark] .colab-df-convert:hover {\n",
              "      background-color: #434B5C;\n",
              "      box-shadow: 0px 1px 3px 1px rgba(0, 0, 0, 0.15);\n",
              "      filter: drop-shadow(0px 1px 2px rgba(0, 0, 0, 0.3));\n",
              "      fill: #FFFFFF;\n",
              "    }\n",
              "  </style>\n",
              "\n",
              "      <script>\n",
              "        const buttonEl =\n",
              "          document.querySelector('#df-0fd79c1a-b6fa-46a4-9f87-f5d4e78f87c1 button.colab-df-convert');\n",
              "        buttonEl.style.display =\n",
              "          google.colab.kernel.accessAllowed ? 'block' : 'none';\n",
              "\n",
              "        async function convertToInteractive(key) {\n",
              "          const element = document.querySelector('#df-0fd79c1a-b6fa-46a4-9f87-f5d4e78f87c1');\n",
              "          const dataTable =\n",
              "            await google.colab.kernel.invokeFunction('convertToInteractive',\n",
              "                                                     [key], {});\n",
              "          if (!dataTable) return;\n",
              "\n",
              "          const docLinkHtml = 'Like what you see? Visit the ' +\n",
              "            '<a target=\"_blank\" href=https://colab.research.google.com/notebooks/data_table.ipynb>data table notebook</a>'\n",
              "            + ' to learn more about interactive tables.';\n",
              "          element.innerHTML = '';\n",
              "          dataTable['output_type'] = 'display_data';\n",
              "          await google.colab.output.renderOutput(dataTable, element);\n",
              "          const docLink = document.createElement('div');\n",
              "          docLink.innerHTML = docLinkHtml;\n",
              "          element.appendChild(docLink);\n",
              "        }\n",
              "      </script>\n",
              "    </div>\n",
              "  </div>\n",
              "  "
            ]
          },
          "metadata": {},
          "execution_count": 6
        }
      ]
    },
    {
      "cell_type": "code",
      "source": [
        "y = np.array([60,10])\n",
        "fig, ax= plt.subplots(figsize=(5,5))\n",
        "mylabels=['No', 'Yes']\n",
        "myexplode = [0, 0]\n",
        "plt.title(\"Have you tried Kava?\")\n",
        "plt.pie(y, labels = mylabels, explode = myexplode)\n",
        "plt.show() "
      ],
      "metadata": {
        "colab": {
          "base_uri": "https://localhost:8080/",
          "height": 319
        },
        "id": "kUnXM8oQs1Bm",
        "outputId": "f51c0696-0cc1-4dd1-e2a4-68ed1e9b9a6a"
      },
      "execution_count": 7,
      "outputs": [
        {
          "output_type": "display_data",
          "data": {
            "text/plain": [
              "<Figure size 360x360 with 1 Axes>"
            ],
            "image/png": "[encoded data removed]"
          },
          "metadata": {}
        }
      ]
    },
    {
      "cell_type": "code",
      "source": [
        "groupby_system = KavaGator_df.groupby(['Gender Identity']) \n",
        "groupby_system['Have you tried Kava?'].value_counts().unstack().plot(\n",
        "    kind='bar',\n",
        "  figsize=(5,5)\n",
        "  )\n",
        "plt.title('Gender and Kava')\n",
        "plt.xlabel('Gender')\n",
        "plt.ylabel('Count')"
      ],
      "metadata": {
        "colab": {
          "base_uri": "https://localhost:8080/",
          "height": 486
        },
        "id": "p7wh6reHWzdl",
        "outputId": "269ea861-63b2-4284-8f96-058389f9a00a"
      },
      "execution_count": 8,
      "outputs": [
        {
          "output_type": "execute_result",
          "data": {
            "text/plain": [
              "Text(0, 0.5, 'Count')"
            ]
          },
          "metadata": {},
          "execution_count": 8
        },
        {
          "output_type": "display_data",
          "data": {
            "text/plain": [
              "<Figure size 360x360 with 1 Axes>"
            ],
            "image/png": "[encoded data removed]"
          },
          "metadata": {
            "needs_background": "light"
          }
        }
      ]
    },
    {
      "cell_type": "markdown",
      "source": [
        "It looks like females respondants are more familiar with to Kava but not by much! With this information, when we market it should be gender neutral! "
      ],
      "metadata": {
        "id": "NYxV2zmfY-mR"
      }
    },
    {
      "cell_type": "code",
      "source": [
        "y = np.array([6,58,7])\n",
        "fig, ax= plt.subplots(figsize=(7,7))\n",
        "mylabels=['I looked it up online', 'Heard about it from friends', 'Found it on social media (Facebook, Instagram, TikTok etc.']\n",
        "myexplode = [0, 0, 0]\n",
        "plt.title(\"Most influential Motivation?\")\n",
        "plt.pie(y, labels = mylabels, explode = myexplode)\n",
        "plt.show() "
      ],
      "metadata": {
        "colab": {
          "base_uri": "https://localhost:8080/",
          "height": 427
        },
        "id": "ssW7u40JZrmJ",
        "outputId": "8109b7e9-8476-4723-c28b-8fbb4b08633d"
      },
      "execution_count": 9,
      "outputs": [
        {
          "output_type": "display_data",
          "data": {
            "text/plain": [
              "<Figure size 504x504 with 1 Axes>"
            ],
            "image/png": "[encoded data removed]"
          },
          "metadata": {}
        }
      ]
    },
    {
      "cell_type": "markdown",
      "source": [
        "Effective Communication of Promotional Messages"
      ],
      "metadata": {
        "id": "UPf2hDuPmb_I"
      }
    },
    {
      "cell_type": "code",
      "source": [
        "CommunicationColumn=pd.value_counts(KavaGator_df['Which form of communication do you find most effective for promotional messages ?'])\n",
        "print(CommunicationColumn)\n"
      ],
      "metadata": {
        "colab": {
          "base_uri": "https://localhost:8080/"
        },
        "id": "DocuLanTwWjh",
        "outputId": "c0f804dd-fd8a-43a0-e39b-87b62f428027"
      },
      "execution_count": 17,
      "outputs": [
        {
          "output_type": "stream",
          "name": "stdout",
          "text": [
            "Instagram       54\n",
            "Tik Tok          6\n",
            "Text Message     4\n",
            "Email            4\n",
            "Facebook         2\n",
            "Snapchat         1\n",
            "Name: Which form of communication do you find most effective for promotional messages ?, dtype: int64\n"
          ]
        }
      ]
    },
    {
      "cell_type": "code",
      "source": [
        "y = np.array([54,6,4,4,2,1])\n",
        "fig, ax= plt.subplots(figsize=(7,7))\n",
        "mylabels=['Instagram','Tik Tok','Text Message','Email','Facebook','Snapchat']\n",
        "myexplode = [0, 0, 0, 0, 0, 0]\n",
        "plt.title(\"Most influential Motivation?\")\n",
        "plt.pie(y, labels = mylabels, explode = myexplode)   \n",
        "plt.title('Effective Communication for Promotional Emails')\n",
        "plt.show()"
      ],
      "metadata": {
        "colab": {
          "base_uri": "https://localhost:8080/",
          "height": 427
        },
        "id": "TwGpZroayOWR",
        "outputId": "c67aee76-4521-417f-f418-37d4ad7be55f"
      },
      "execution_count": 38,
      "outputs": [
        {
          "output_type": "display_data",
          "data": {
            "text/plain": [
              "<Figure size 504x504 with 1 Axes>"
            ],
            "image/png": "[encoded data removed]"
          },
          "metadata": {}
        }
      ]
    },
    {
      "cell_type": "markdown",
      "source": [
        "Open to learning about Kava?"
      ],
      "metadata": {
        "id": "qVRfpwjc07ww"
      }
    },
    {
      "cell_type": "code",
      "source": [
        "AboutKava_Column=pd.value_counts(KavaGator_df['Kava is a beverage made from the root of a plant native to the South Pacific. Kava is known to have a similar effects to alcohol without the harmful impact on your body. Does this sound like a product that may pique your interest if you had more details on the product?'])\n",
        "print(AboutKava_Column)"
      ],
      "metadata": {
        "colab": {
          "base_uri": "https://localhost:8080/"
        },
        "id": "3iqkrkFR05oz",
        "outputId": "5be90d42-98e4-45af-d098-543dab54c64a"
      },
      "execution_count": 24,
      "outputs": [
        {
          "output_type": "stream",
          "name": "stdout",
          "text": [
            "Yes      35\n",
            "Maybe    21\n",
            "No       15\n",
            "Name: Kava is a beverage made from the root of a plant native to the South Pacific. Kava is known to have a similar effects to alcohol without the harmful impact on your body. Does this sound like a product that may pique your interest if you had more details on the product?, dtype: int64\n"
          ]
        }
      ]
    },
    {
      "cell_type": "code",
      "source": [
        "AboutKava_Column = ['Yes','Maybe','No'] \n",
        "Count= [35,21,15]\n",
        "plt.bar(AboutKava_Column, Count)  \n",
        "figsize=(10,10)\n",
        "plt.title('Want to know about Kava?')\n",
        "plt.ylabel('Count')"
      ],
      "metadata": {
        "colab": {
          "base_uri": "https://localhost:8080/",
          "height": 300
        },
        "id": "hwpBX24A1fS8",
        "outputId": "003c2b69-8ddd-4856-ce26-0dc2cc2f0110"
      },
      "execution_count": 25,
      "outputs": [
        {
          "output_type": "execute_result",
          "data": {
            "text/plain": [
              "Text(0, 0.5, 'Count')"
            ]
          },
          "metadata": {},
          "execution_count": 25
        },
        {
          "output_type": "display_data",
          "data": {
            "text/plain": [
              "<Figure size 432x288 with 1 Axes>"
            ],
            "image/png": "[encoded data removed]"
          },
          "metadata": {
            "needs_background": "light"
          }
        }
      ]
    },
    {
      "cell_type": "markdown",
      "source": [
        "This data show that people are open to learning about Kava so it is important the Julia capatalize on her knowledge of the drink and share that with her target audience!"
      ],
      "metadata": {
        "id": "H1kJ-1aO2dDT"
      }
    },
    {
      "cell_type": "markdown",
      "source": [
        "How familiar are you with Kava?"
      ],
      "metadata": {
        "id": "tXNS4PDD34mi"
      }
    },
    {
      "cell_type": "code",
      "source": [
        "Familiar_Column=pd.value_counts(KavaGator_df['How familiar are you with Kava?'])\n",
        "print(Familiar_Column)"
      ],
      "metadata": {
        "colab": {
          "base_uri": "https://localhost:8080/"
        },
        "id": "f6JJNAUd38ea",
        "outputId": "5b61094b-7c09-4739-b2b7-b8e0431c414e"
      },
      "execution_count": 26,
      "outputs": [
        {
          "output_type": "stream",
          "name": "stdout",
          "text": [
            "1- I've never heard of it (Not Familiar at All)                                     45\n",
            "2- I've heard of it but have never tried it (I've Heard of It)                      19\n",
            "3- I know what it is and have a good understanding of it effects (Very Familiar)     6\n",
            "Name: How familiar are you with Kava?, dtype: int64\n"
          ]
        }
      ]
    },
    {
      "cell_type": "code",
      "source": [
        "Familiar_Column = ['Very Familiar','I have Heard of It','Not Familiar at All'] \n",
        "Count= [6,19,45]\n",
        "plt.bar(Familiar_Column, Count)  \n",
        "figsize=(10,10)\n",
        "plt.title('Do you know anything about Kava?')\n",
        "plt.ylabel('Count')"
      ],
      "metadata": {
        "colab": {
          "base_uri": "https://localhost:8080/",
          "height": 300
        },
        "id": "RcLc-Tj44Mxb",
        "outputId": "0948d1ab-e137-4515-f621-390e0628edf4"
      },
      "execution_count": 27,
      "outputs": [
        {
          "output_type": "execute_result",
          "data": {
            "text/plain": [
              "Text(0, 0.5, 'Count')"
            ]
          },
          "metadata": {},
          "execution_count": 27
        },
        {
          "output_type": "display_data",
          "data": {
            "text/plain": [
              "<Figure size 432x288 with 1 Axes>"
            ],
            "image/png": "[encoded data removed]"
          },
          "metadata": {
            "needs_background": "light"
          }
        }
      ]
    },
    {
      "cell_type": "markdown",
      "source": [
        "Here we are looking at the relationship between those who may be interested in the product and their familarity with the beverage"
      ],
      "metadata": {
        "id": "SmJPJ3UO7t3n"
      }
    },
    {
      "cell_type": "code",
      "source": [
        "KavaGator_df.groupby('Kava is a beverage made from the root of a plant native to the South Pacific. Kava is known to have a similar effects to alcohol without the harmful impact on your body. Does this sound like a product that may pique your interest if you had more details on the product?')['How familiar are you with Kava?'].sum()"
      ],
      "metadata": {
        "colab": {
          "base_uri": "https://localhost:8080/"
        },
        "id": "7I6oFauu6KjZ",
        "outputId": "cd68fff5-26a5-4e1b-aa72-ea2ddf45dfb3"
      },
      "execution_count": 29,
      "outputs": [
        {
          "output_type": "execute_result",
          "data": {
            "text/plain": [
              "Kava is a beverage made from the root of a plant native to the South Pacific. Kava is known to have a similar effects to alcohol without the harmful impact on your body. Does this sound like a product that may pique your interest if you had more details on the product?\n",
              "Maybe    1- I've never heard of it (Not Familiar at All...\n",
              "No       1- I've never heard of it (Not Familiar at All...\n",
              "Yes      3- I know what it is and have a good understan...\n",
              "Name: How familiar are you with Kava?, dtype: object"
            ]
          },
          "metadata": {},
          "execution_count": 29
        }
      ]
    },
    {
      "cell_type": "code",
      "source": [
        "import matplotlib.pyplot as plt\n",
        "Kava_Familiar = KavaGator_df.groupby(['Kava is a beverage made from the root of a plant native to the South Pacific. Kava is known to have a similar effects to alcohol without the harmful impact on your body. Does this sound like a product that may pique your interest if you had more details on the product?']) \n",
        "Kava_Familiar['How familiar are you with Kava?'].value_counts().unstack().plot(\n",
        "    kind='barh',\n",
        "    figsize=(8, 8)\n",
        ")\n",
        "plt.xlabel('Count')\n",
        "plt.ylabel('I would like to learn more')"
      ],
      "metadata": {
        "colab": {
          "base_uri": "https://localhost:8080/",
          "height": 516
        },
        "id": "nCfjNqgu6cm-",
        "outputId": "a4ec8818-48bc-4249-90b1-12d10f58d218"
      },
      "execution_count": 35,
      "outputs": [
        {
          "output_type": "execute_result",
          "data": {
            "text/plain": [
              "Text(0, 0.5, 'I would like to learn more')"
            ]
          },
          "metadata": {},
          "execution_count": 35
        },
        {
          "output_type": "display_data",
          "data": {
            "text/plain": [
              "<Figure size 576x576 with 1 Axes>"
            ],
            "image/png": "[encoded data removed]"
          },
          "metadata": {
            "needs_background": "light"
          }
        }
      ]
    },
    {
      "cell_type": "markdown",
      "source": [
        "From this data we can see the majority of respondants have not heard of Kava but the product does pique their interest!"
      ],
      "metadata": {
        "id": "jgX_lgOb7_Uz"
      }
    }
  ]
}